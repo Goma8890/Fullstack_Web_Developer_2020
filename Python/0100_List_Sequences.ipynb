{
 "cells": [
  {
   "cell_type": "markdown",
   "id": "6ccea4a4",
   "metadata": {},
   "source": [
    "# Lists (Sequences)"
   ]
  },
  {
   "cell_type": "code",
   "execution_count": 16,
   "id": "9c291d7f",
   "metadata": {},
   "outputs": [],
   "source": [
    "# Using a list[], tuple() and sets{}\n",
    "groceries = ['Milk', 'Eggs', 'Bread', 42, True, 'Milk', 'Bread']"
   ]
  },
  {
   "cell_type": "code",
   "execution_count": 17,
   "id": "f47f1116",
   "metadata": {},
   "outputs": [
    {
     "data": {
      "text/plain": [
       "['Milk', 'Eggs', 'Bread', 42, True, 'Milk', 'Bread']"
      ]
     },
     "execution_count": 17,
     "metadata": {},
     "output_type": "execute_result"
    }
   ],
   "source": [
    "groceries"
   ]
  },
  {
   "cell_type": "code",
   "execution_count": 18,
   "id": "9f0cdd1b",
   "metadata": {},
   "outputs": [
    {
     "name": "stdout",
     "output_type": "stream",
     "text": [
      "Milk\n",
      "Eggs\n",
      "Bread\n",
      "42\n",
      "True\n",
      "Milk\n",
      "Bread\n"
     ]
    }
   ],
   "source": [
    "for item in groceries:\n",
    "    print(item)"
   ]
  },
  {
   "cell_type": "code",
   "execution_count": null,
   "id": "375561a6",
   "metadata": {},
   "outputs": [],
   "source": []
  }
 ],
 "metadata": {
  "kernelspec": {
   "display_name": "Python 3 (ipykernel)",
   "language": "python",
   "name": "python3"
  },
  "language_info": {
   "codemirror_mode": {
    "name": "ipython",
    "version": 3
   },
   "file_extension": ".py",
   "mimetype": "text/x-python",
   "name": "python",
   "nbconvert_exporter": "python",
   "pygments_lexer": "ipython3",
   "version": "3.9.7"
  }
 },
 "nbformat": 4,
 "nbformat_minor": 5
}
