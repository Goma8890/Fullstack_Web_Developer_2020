{
 "cells": [
  {
   "cell_type": "markdown",
   "id": "0acbe80e",
   "metadata": {},
   "source": [
    "# Comparison Shortcuts"
   ]
  },
  {
   "cell_type": "code",
   "execution_count": 1,
   "id": "1d0f4b69",
   "metadata": {},
   "outputs": [
    {
     "name": "stdout",
     "output_type": "stream",
     "text": [
      "This is a true statement\n"
     ]
    }
   ],
   "source": [
    "if True:\n",
    "    print(\"This is a true statement\")"
   ]
  },
  {
   "cell_type": "code",
   "execution_count": 10,
   "id": "c3f76abb",
   "metadata": {},
   "outputs": [],
   "source": [
    "string = \"\""
   ]
  },
  {
   "cell_type": "code",
   "execution_count": 11,
   "id": "b5ca652d",
   "metadata": {},
   "outputs": [
    {
     "name": "stdout",
     "output_type": "stream",
     "text": [
      "String does not have a value\n"
     ]
    }
   ],
   "source": [
    "if string:\n",
    "    print(\"String has a value\")\n",
    "if not string:\n",
    "    print(\"String does not have a value\")"
   ]
  },
  {
   "cell_type": "code",
   "execution_count": 12,
   "id": "d4e941ef",
   "metadata": {},
   "outputs": [
    {
     "data": {
      "text/plain": [
       "False"
      ]
     },
     "execution_count": 12,
     "metadata": {},
     "output_type": "execute_result"
    }
   ],
   "source": [
    "bool(string)"
   ]
  },
  {
   "cell_type": "code",
   "execution_count": 14,
   "id": "7f55d8e6",
   "metadata": {},
   "outputs": [
    {
     "name": "stdout",
     "output_type": "stream",
     "text": [
      "There are item in the lst 2\n"
     ]
    }
   ],
   "source": [
    "lst = [\"Python\", \"Javascript\"]\n",
    "if lst:\n",
    "    print(\"There are item in the lst\", len(lst))\n",
    "if not lst:\n",
    "    print(\"There are not items in the list\")"
   ]
  },
  {
   "cell_type": "code",
   "execution_count": 16,
   "id": "5a240800",
   "metadata": {},
   "outputs": [
    {
     "name": "stdout",
     "output_type": "stream",
     "text": [
      "There are not items in the list\n"
     ]
    }
   ],
   "source": [
    "tup = ()\n",
    "if tup:\n",
    "    print(\"There are item in the lst\", len(tup))\n",
    "if not tup:\n",
    "    print(\"There are not items in the list\")"
   ]
  },
  {
   "cell_type": "code",
   "execution_count": 17,
   "id": "be51a814",
   "metadata": {},
   "outputs": [],
   "source": [
    "total_items = None"
   ]
  },
  {
   "cell_type": "code",
   "execution_count": 19,
   "id": "ee5cf276",
   "metadata": {},
   "outputs": [
    {
     "name": "stdout",
     "output_type": "stream",
     "text": [
      "There are no items\n"
     ]
    }
   ],
   "source": [
    "if total_items:\n",
    "    print(\"There are items\")\n",
    "if not total_items:\n",
    "    print(\"There are no items\")"
   ]
  },
  {
   "cell_type": "code",
   "execution_count": 21,
   "id": "ce8230f9",
   "metadata": {},
   "outputs": [
    {
     "name": "stdout",
     "output_type": "stream",
     "text": [
      "== none\n",
      "is none\n"
     ]
    }
   ],
   "source": [
    "if total_items == None:\n",
    "    print(\"== none\")\n",
    "if total_items is None:\n",
    "    print(\"is none\")"
   ]
  },
  {
   "cell_type": "code",
   "execution_count": 22,
   "id": "8262bd0b",
   "metadata": {},
   "outputs": [],
   "source": [
    "name1 = \"antonio\"\n",
    "name2 = \"antonio\""
   ]
  },
  {
   "cell_type": "code",
   "execution_count": 23,
   "id": "a1005fa6",
   "metadata": {},
   "outputs": [
    {
     "data": {
      "text/plain": [
       "True"
      ]
     },
     "execution_count": 23,
     "metadata": {},
     "output_type": "execute_result"
    }
   ],
   "source": [
    "name1 is name2"
   ]
  },
  {
   "cell_type": "code",
   "execution_count": 24,
   "id": "0cb8df65",
   "metadata": {},
   "outputs": [
    {
     "name": "stdout",
     "output_type": "stream",
     "text": [
      "Hello World!\n"
     ]
    }
   ],
   "source": [
    "lst1 = [\"hello\"]\n",
    "lst2 = [\"hello\"]\n",
    "if lst1 == lst2:\n",
    "    print(\"Hello World!\")"
   ]
  },
  {
   "cell_type": "code",
   "execution_count": null,
   "id": "960a2f0e",
   "metadata": {},
   "outputs": [],
   "source": []
  }
 ],
 "metadata": {
  "kernelspec": {
   "display_name": "Python 3 (ipykernel)",
   "language": "python",
   "name": "python3"
  },
  "language_info": {
   "codemirror_mode": {
    "name": "ipython",
    "version": 3
   },
   "file_extension": ".py",
   "mimetype": "text/x-python",
   "name": "python",
   "nbconvert_exporter": "python",
   "pygments_lexer": "ipython3",
   "version": "3.9.7"
  }
 },
 "nbformat": 4,
 "nbformat_minor": 5
}
