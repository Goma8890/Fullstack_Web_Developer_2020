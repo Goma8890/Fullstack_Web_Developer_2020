{
 "cells": [
  {
   "cell_type": "markdown",
   "id": "139f31a1",
   "metadata": {},
   "source": [
    "## Lambda Expressions"
   ]
  },
  {
   "cell_type": "code",
   "execution_count": 2,
   "id": "22697af5",
   "metadata": {},
   "outputs": [
    {
     "data": {
      "text/plain": [
       "'Return a thing'"
      ]
     },
     "execution_count": 2,
     "metadata": {},
     "output_type": "execute_result"
    }
   ],
   "source": [
    "def func_name():\n",
    "    return \"Return a thing\"\n",
    "func_name()"
   ]
  },
  {
   "cell_type": "code",
   "execution_count": 5,
   "id": "6d9a9ce1",
   "metadata": {},
   "outputs": [],
   "source": [
    "def square(num):\n",
    "    return num ** 2"
   ]
  },
  {
   "cell_type": "code",
   "execution_count": 13,
   "id": "8a4e8023",
   "metadata": {},
   "outputs": [],
   "source": [
    "square = lambda num: num ** 2"
   ]
  },
  {
   "cell_type": "code",
   "execution_count": 8,
   "id": "5e0b725c",
   "metadata": {},
   "outputs": [
    {
     "data": {
      "text/plain": [
       "25"
      ]
     },
     "execution_count": 8,
     "metadata": {},
     "output_type": "execute_result"
    }
   ],
   "source": [
    "square(5)"
   ]
  },
  {
   "cell_type": "code",
   "execution_count": 9,
   "id": "24a658c2",
   "metadata": {},
   "outputs": [
    {
     "data": {
      "text/plain": [
       "826281"
      ]
     },
     "execution_count": 9,
     "metadata": {},
     "output_type": "execute_result"
    }
   ],
   "source": [
    "square(909)"
   ]
  },
  {
   "cell_type": "code",
   "execution_count": 11,
   "id": "b7087d44",
   "metadata": {},
   "outputs": [],
   "source": [
    "add = lambda num1, num2: num1 + num2"
   ]
  },
  {
   "cell_type": "code",
   "execution_count": 12,
   "id": "798c953a",
   "metadata": {},
   "outputs": [
    {
     "data": {
      "text/plain": [
       "5"
      ]
     },
     "execution_count": 12,
     "metadata": {},
     "output_type": "execute_result"
    }
   ],
   "source": [
    "add(1,4)"
   ]
  },
  {
   "cell_type": "code",
   "execution_count": null,
   "id": "d56d11b4",
   "metadata": {},
   "outputs": [],
   "source": [
    "# lambda expressions should be easy and simple not used in complex logic"
   ]
  }
 ],
 "metadata": {
  "kernelspec": {
   "display_name": "Python 3 (ipykernel)",
   "language": "python",
   "name": "python3"
  },
  "language_info": {
   "codemirror_mode": {
    "name": "ipython",
    "version": 3
   },
   "file_extension": ".py",
   "mimetype": "text/x-python",
   "name": "python",
   "nbconvert_exporter": "python",
   "pygments_lexer": "ipython3",
   "version": "3.9.7"
  }
 },
 "nbformat": 4,
 "nbformat_minor": 5
}
