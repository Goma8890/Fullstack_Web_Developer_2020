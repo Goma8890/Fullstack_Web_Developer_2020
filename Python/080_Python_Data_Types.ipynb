{
 "cells": [
  {
   "cell_type": "markdown",
   "id": "caa10f70",
   "metadata": {},
   "source": [
    "# Python Data Types"
   ]
  },
  {
   "cell_type": "markdown",
   "id": "f6c0af7f",
   "metadata": {},
   "source": [
    "## Numerics"
   ]
  },
  {
   "cell_type": "code",
   "execution_count": 1,
   "id": "3a4c6c9a",
   "metadata": {},
   "outputs": [],
   "source": [
    "# int, floats, complex numbers\n",
    "# int = 1, 2, 3, 4, 5, etc\n",
    "# float = 1.0, 3.14, 100.5, 1023232232222323.32\n",
    "# complex numbers = 10 ** 15 for dataa science"
   ]
  },
  {
   "cell_type": "markdown",
   "id": "8dc43645",
   "metadata": {},
   "source": [
    "## Booleans"
   ]
  },
  {
   "cell_type": "code",
   "execution_count": 4,
   "id": "33d2ac87",
   "metadata": {},
   "outputs": [
    {
     "data": {
      "text/plain": [
       "True"
      ]
     },
     "execution_count": 4,
     "metadata": {},
     "output_type": "execute_result"
    }
   ],
   "source": [
    "# True or False\n",
    "bool(\"test\")"
   ]
  },
  {
   "cell_type": "markdown",
   "id": "5f085db1",
   "metadata": {},
   "source": [
    "## Sequences"
   ]
  },
  {
   "cell_type": "code",
   "execution_count": 5,
   "id": "be78e22f",
   "metadata": {},
   "outputs": [],
   "source": [
    "# List = ['Milk', 'Eggs', 'Bread', True, False, {}, (), ['a', 'b', 'c']] can be added to and modify\n",
    "# Tuple = ('Milk', 'Eggs', 'Bread') cannot be added to and modify\n",
    "# Sets = {'Milk', 'Eggs', 'Bread'} is like a list but unique\n",
    "# String = \"Python for Everybody\""
   ]
  },
  {
   "cell_type": "markdown",
   "id": "93de2117",
   "metadata": {},
   "source": [
    "## Dictionaries"
   ]
  },
  {
   "cell_type": "code",
   "execution_count": 7,
   "id": "25a9bad2",
   "metadata": {},
   "outputs": [],
   "source": [
    "# Dict = {\n",
    "        #'Milk': 'Goat Milk',\n",
    "        #'Eggs': 'Free Range Eggs'\n",
    "#}"
   ]
  },
  {
   "cell_type": "code",
   "execution_count": null,
   "id": "f5255bdc",
   "metadata": {},
   "outputs": [],
   "source": [
    "person = {\n",
    "    'name': 'Antonio'\n",
    "    'cats': 2'\n",
    "    'family_members': ['Mother', 'Father', 'Brother', 'Sister']\n",
    "}"
   ]
  }
 ],
 "metadata": {
  "kernelspec": {
   "display_name": "Python 3 (ipykernel)",
   "language": "python",
   "name": "python3"
  },
  "language_info": {
   "codemirror_mode": {
    "name": "ipython",
    "version": 3
   },
   "file_extension": ".py",
   "mimetype": "text/x-python",
   "name": "python",
   "nbconvert_exporter": "python",
   "pygments_lexer": "ipython3",
   "version": "3.9.7"
  }
 },
 "nbformat": 4,
 "nbformat_minor": 5
}
