{
 "cells": [
  {
   "cell_type": "markdown",
   "id": "bbf4c2c0",
   "metadata": {},
   "source": [
    "# PRINTING"
   ]
  },
  {
   "cell_type": "code",
   "execution_count": 1,
   "id": "e63b0e48",
   "metadata": {},
   "outputs": [],
   "source": [
    "course = \"Python for Everybody\"\n"
   ]
  },
  {
   "cell_type": "code",
   "execution_count": 2,
   "id": "51a3a48e",
   "metadata": {},
   "outputs": [
    {
     "name": "stdout",
     "output_type": "stream",
     "text": [
      "The course you are in is Python for Everybody\n"
     ]
    }
   ],
   "source": [
    "print(\"The course you are in is {}\".format(course))"
   ]
  },
  {
   "cell_type": "code",
   "execution_count": 4,
   "id": "72d42e1d",
   "metadata": {},
   "outputs": [],
   "source": [
    "greeting = \"Welcome {}, you are sitting {}\".format(\"Antonio\", course)"
   ]
  },
  {
   "cell_type": "code",
   "execution_count": 5,
   "id": "2a34c27c",
   "metadata": {},
   "outputs": [
    {
     "data": {
      "text/plain": [
       "'Welcome Antonio, you are sitting Python for Everybody'"
      ]
     },
     "execution_count": 5,
     "metadata": {},
     "output_type": "execute_result"
    }
   ],
   "source": [
    "greeting"
   ]
  },
  {
   "cell_type": "code",
   "execution_count": 6,
   "id": "0f393a2f",
   "metadata": {},
   "outputs": [
    {
     "name": "stdout",
     "output_type": "stream",
     "text": [
      "Python 3.9.7\n"
     ]
    }
   ],
   "source": [
    "!python -V"
   ]
  },
  {
   "cell_type": "markdown",
   "id": "81bb1e11",
   "metadata": {},
   "source": [
    "### f-strings"
   ]
  },
  {
   "cell_type": "code",
   "execution_count": null,
   "id": "5b39fae2",
   "metadata": {},
   "outputs": [],
   "source": [
    "name = 'Henry'\n",
    "f\"Hello {name.upper()} welcome to {course.swapcase()}\" # In Python >= 3.6 up"
   ]
  },
  {
   "cell_type": "markdown",
   "id": "c8996c1f",
   "metadata": {},
   "source": [
    "### Example"
   ]
  }
 ],
 "metadata": {
  "kernelspec": {
   "display_name": "Python 3 (ipykernel)",
   "language": "python",
   "name": "python3"
  },
  "language_info": {
   "codemirror_mode": {
    "name": "ipython",
    "version": 3
   },
   "file_extension": ".py",
   "mimetype": "text/x-python",
   "name": "python",
   "nbconvert_exporter": "python",
   "pygments_lexer": "ipython3",
   "version": "3.9.7"
  }
 },
 "nbformat": 4,
 "nbformat_minor": 5
}
