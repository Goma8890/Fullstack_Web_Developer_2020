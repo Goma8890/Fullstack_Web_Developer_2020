{
 "cells": [
  {
   "cell_type": "markdown",
   "id": "0fd14d34",
   "metadata": {},
   "source": [
    "## Code Comments"
   ]
  },
  {
   "cell_type": "code",
   "execution_count": null,
   "id": "c1059cd3",
   "metadata": {},
   "outputs": [],
   "source": [
    "# This will ask for the users name\n",
    "name = input(\"Whta is your name? \")\n",
    "\n",
    "person = {}\n",
    "# Get the person age or assign None if the age wasn't foun\n",
    "age = person.get(\"age\", None)"
   ]
  },
  {
   "cell_type": "code",
   "execution_count": null,
   "id": "f508164d",
   "metadata": {},
   "outputs": [],
   "source": []
  },
  {
   "cell_type": "code",
   "execution_count": null,
   "id": "dcb3376a",
   "metadata": {},
   "outputs": [],
   "source": []
  },
  {
   "cell_type": "code",
   "execution_count": null,
   "id": "6c68957a",
   "metadata": {},
   "outputs": [],
   "source": []
  },
  {
   "cell_type": "code",
   "execution_count": null,
   "id": "5fb3dd23",
   "metadata": {},
   "outputs": [],
   "source": []
  }
 ],
 "metadata": {
  "kernelspec": {
   "display_name": "Python 3 (ipykernel)",
   "language": "python",
   "name": "python3"
  },
  "language_info": {
   "codemirror_mode": {
    "name": "ipython",
    "version": 3
   },
   "file_extension": ".py",
   "mimetype": "text/x-python",
   "name": "python",
   "nbconvert_exporter": "python",
   "pygments_lexer": "ipython3",
   "version": "3.9.7"
  }
 },
 "nbformat": 4,
 "nbformat_minor": 5
}
