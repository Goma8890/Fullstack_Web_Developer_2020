{
 "cells": [
  {
   "cell_type": "markdown",
   "id": "606c750f",
   "metadata": {},
   "source": [
    "## Args and Kwargs"
   ]
  },
  {
   "cell_type": "code",
   "execution_count": null,
   "id": "f88ffde2",
   "metadata": {},
   "outputs": [],
   "source": [
    "### args = arguments\n",
    "### kwargs = keyword arguments"
   ]
  },
  {
   "cell_type": "code",
   "execution_count": 5,
   "id": "1c97c63f",
   "metadata": {},
   "outputs": [],
   "source": [
    "#def func_name(name, *args, **kwargs)\n",
    "def func_name(*args):\n",
    "    print(args)\n",
    "    print(type(args))"
   ]
  },
  {
   "cell_type": "code",
   "execution_count": 6,
   "id": "00e4eef0",
   "metadata": {},
   "outputs": [
    {
     "name": "stdout",
     "output_type": "stream",
     "text": [
      "(1, 5, 8, 'Python', 'Coding')\n",
      "<class 'tuple'>\n"
     ]
    }
   ],
   "source": [
    "func_name(1, 5, 8, 'Python', 'Coding')"
   ]
  },
  {
   "cell_type": "code",
   "execution_count": 7,
   "id": "b07a97e7",
   "metadata": {},
   "outputs": [],
   "source": [
    "def print_args(*args):\n",
    "    for arg in args:\n",
    "        print(arg)"
   ]
  },
  {
   "cell_type": "code",
   "execution_count": 8,
   "id": "7a997769",
   "metadata": {},
   "outputs": [
    {
     "name": "stdout",
     "output_type": "stream",
     "text": [
      "Computer\n",
      "Coffee\n",
      "Cup\n",
      "Monitor\n",
      "Lamp\n"
     ]
    }
   ],
   "source": [
    "print_args('Computer', 'Coffee', 'Cup', 'Monitor', 'Lamp')"
   ]
  },
  {
   "cell_type": "code",
   "execution_count": 22,
   "id": "71f47902",
   "metadata": {},
   "outputs": [],
   "source": [
    "# kwargs\n",
    "def my_func(**kwargs):\n",
    "    print(kwargs)\n",
    "    print(type(kwargs))"
   ]
  },
  {
   "cell_type": "code",
   "execution_count": 19,
   "id": "4363a8be",
   "metadata": {},
   "outputs": [
    {
     "name": "stdout",
     "output_type": "stream",
     "text": [
      "{'name': 'Tony', 'drink': 'Coffee', 'hobby': 'Gardening'}\n",
      "<class 'dict'>\n"
     ]
    }
   ],
   "source": [
    "my_func(name='Tony', drink='Coffee', hobby='Gardening')"
   ]
  },
  {
   "cell_type": "code",
   "execution_count": 20,
   "id": "84d36652",
   "metadata": {},
   "outputs": [],
   "source": [
    "def my_func(**kwargs):\n",
    "    for key, value in kwargs.items():\n",
    "        print(\"Key: \", key, \" \\t\\t\", \"Value \", value)"
   ]
  },
  {
   "cell_type": "code",
   "execution_count": 21,
   "id": "620f7300",
   "metadata": {},
   "outputs": [
    {
     "name": "stdout",
     "output_type": "stream",
     "text": [
      "Key:  name  \t\t Value  Tony\n",
      "Key:  drink  \t\t Value  Coffee\n",
      "Key:  hobby  \t\t Value  Gardening\n"
     ]
    }
   ],
   "source": [
    "my_func(name='Tony', drink='Coffee', hobby='Gardening')"
   ]
  },
  {
   "cell_type": "code",
   "execution_count": 30,
   "id": "6dc21c24",
   "metadata": {},
   "outputs": [],
   "source": [
    "def order(name, *dishes, **kwargs):\n",
    "    print(f\"Hello {name}\")\n",
    "    for dish in dishes:\n",
    "        print(f\"\\tYou ordered {dish}\")\n",
    "    \n",
    "    if kwargs.get(\"address\"):\n",
    "        address = kwargs.get(\"address\")\n",
    "        print(f\"\\tWe are delivering to {address}\")\n",
    "    else:\n",
    "        print(\"YOU DID NOT PROVIDE AN ADDRESS\")"
   ]
  },
  {
   "cell_type": "code",
   "execution_count": 31,
   "id": "cc0fca68",
   "metadata": {},
   "outputs": [
    {
     "name": "stdout",
     "output_type": "stream",
     "text": [
      "Hello Lindy\n",
      "\tYou ordered tacos\n",
      "\tYou ordered dog food\n",
      "\tWe are delivering to anything\n"
     ]
    }
   ],
   "source": [
    "order(\"Lindy\", \"tacos\", \"dog food\", address='anything')"
   ]
  },
  {
   "cell_type": "code",
   "execution_count": null,
   "id": "9851a728",
   "metadata": {},
   "outputs": [],
   "source": []
  }
 ],
 "metadata": {
  "kernelspec": {
   "display_name": "Python 3 (ipykernel)",
   "language": "python",
   "name": "python3"
  },
  "language_info": {
   "codemirror_mode": {
    "name": "ipython",
    "version": 3
   },
   "file_extension": ".py",
   "mimetype": "text/x-python",
   "name": "python",
   "nbconvert_exporter": "python",
   "pygments_lexer": "ipython3",
   "version": "3.9.7"
  }
 },
 "nbformat": 4,
 "nbformat_minor": 5
}
