{
 "cells": [
  {
   "cell_type": "markdown",
   "id": "5373a297",
   "metadata": {},
   "source": [
    "## Code Comments"
   ]
  },
  {
   "cell_type": "code",
   "execution_count": 1,
   "id": "4aa5d3bd",
   "metadata": {},
   "outputs": [
    {
     "name": "stdout",
     "output_type": "stream",
     "text": [
      "What is your name? Tony\n"
     ]
    }
   ],
   "source": [
    "# This will ask for the user's name\n",
    "name = input(\"What is your name? \")\n",
    "\n",
    "person = {}\n",
    "# Get the persons age, or assign None if an age wasn't found\n",
    "age = person.get(\"age\", None)"
   ]
  },
  {
   "cell_type": "code",
   "execution_count": 2,
   "id": "f83cc8a2",
   "metadata": {},
   "outputs": [],
   "source": [
    "age"
   ]
  },
  {
   "cell_type": "code",
   "execution_count": 3,
   "id": "09c678bb",
   "metadata": {},
   "outputs": [
    {
     "data": {
      "text/plain": [
       "NoneType"
      ]
     },
     "execution_count": 3,
     "metadata": {},
     "output_type": "execute_result"
    }
   ],
   "source": [
    "type(age)"
   ]
  },
  {
   "cell_type": "code",
   "execution_count": null,
   "id": "df7d9189",
   "metadata": {},
   "outputs": [],
   "source": [
    "def func_name():\n",
    "    # This is going to do a thing\n",
    "    '''\n",
    "    This is a demo function, and is not used at all.\n",
    "    It's allowed tp be deleted in the future.\n",
    "    '''\n",
    "    return \"Something in here\""
   ]
  }
 ],
 "metadata": {
  "kernelspec": {
   "display_name": "Python 3 (ipykernel)",
   "language": "python",
   "name": "python3"
  },
  "language_info": {
   "codemirror_mode": {
    "name": "ipython",
    "version": 3
   },
   "file_extension": ".py",
   "mimetype": "text/x-python",
   "name": "python",
   "nbconvert_exporter": "python",
   "pygments_lexer": "ipython3",
   "version": "3.9.7"
  }
 },
 "nbformat": 4,
 "nbformat_minor": 5
}
