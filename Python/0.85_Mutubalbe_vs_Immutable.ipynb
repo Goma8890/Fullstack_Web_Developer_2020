{
 "cells": [
  {
   "cell_type": "markdown",
   "id": "57b25fed",
   "metadata": {},
   "source": [
    "# Mutable vs. Immutable"
   ]
  },
  {
   "cell_type": "markdown",
   "id": "1fb517c6",
   "metadata": {},
   "source": [
    "> Some things can change some things cannot. There's a reason we'd want to set a vvariable and never have it changed: performance, or data integrity."
   ]
  },
  {
   "cell_type": "code",
   "execution_count": 1,
   "id": "b764c9f1",
   "metadata": {},
   "outputs": [],
   "source": [
    "# Mutable\n",
    "food = ['Eggs', 'Milk', 'Bread']"
   ]
  },
  {
   "cell_type": "code",
   "execution_count": 2,
   "id": "d88f7ca4",
   "metadata": {},
   "outputs": [],
   "source": [
    "food.append('Chocolate')"
   ]
  },
  {
   "cell_type": "code",
   "execution_count": 3,
   "id": "fa50f8ca",
   "metadata": {},
   "outputs": [
    {
     "data": {
      "text/plain": [
       "['Eggs', 'Milk', 'Bread', 'Chocolate']"
      ]
     },
     "execution_count": 3,
     "metadata": {},
     "output_type": "execute_result"
    }
   ],
   "source": [
    "food"
   ]
  },
  {
   "cell_type": "code",
   "execution_count": 4,
   "id": "af1d8209",
   "metadata": {},
   "outputs": [],
   "source": [
    "#Immutable\n",
    "grammas_list = ('Flour', 'Butter')"
   ]
  },
  {
   "cell_type": "code",
   "execution_count": 5,
   "id": "49bd6afc",
   "metadata": {},
   "outputs": [
    {
     "data": {
      "text/plain": [
       "('Flour', 'Butter')"
      ]
     },
     "execution_count": 5,
     "metadata": {},
     "output_type": "execute_result"
    }
   ],
   "source": [
    "grammas_list"
   ]
  },
  {
   "cell_type": "code",
   "execution_count": 7,
   "id": "6d3d3823",
   "metadata": {},
   "outputs": [],
   "source": [
    "# Assigning a Variable\n",
    "name = 'Antonio'"
   ]
  },
  {
   "cell_type": "code",
   "execution_count": 10,
   "id": "bad07a96",
   "metadata": {},
   "outputs": [],
   "source": [
    "name = 'Zephyr'"
   ]
  },
  {
   "cell_type": "code",
   "execution_count": 11,
   "id": "35591f91",
   "metadata": {},
   "outputs": [
    {
     "data": {
      "text/plain": [
       "'Zephyr'"
      ]
     },
     "execution_count": 11,
     "metadata": {},
     "output_type": "execute_result"
    }
   ],
   "source": [
    "name"
   ]
  },
  {
   "cell_type": "code",
   "execution_count": 12,
   "id": "ded19390",
   "metadata": {},
   "outputs": [
    {
     "data": {
      "text/plain": [
       "'ZEPHYR'"
      ]
     },
     "execution_count": 12,
     "metadata": {},
     "output_type": "execute_result"
    }
   ],
   "source": [
    "name.upper()"
   ]
  }
 ],
 "metadata": {
  "kernelspec": {
   "display_name": "Python 3 (ipykernel)",
   "language": "python",
   "name": "python3"
  },
  "language_info": {
   "codemirror_mode": {
    "name": "ipython",
    "version": 3
   },
   "file_extension": ".py",
   "mimetype": "text/x-python",
   "name": "python",
   "nbconvert_exporter": "python",
   "pygments_lexer": "ipython3",
   "version": "3.9.7"
  }
 },
 "nbformat": 4,
 "nbformat_minor": 5
}
