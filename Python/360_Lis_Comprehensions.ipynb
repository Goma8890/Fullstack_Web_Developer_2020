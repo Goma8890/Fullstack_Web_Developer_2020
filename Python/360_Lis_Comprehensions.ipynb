{
 "cells": [
  {
   "cell_type": "markdown",
   "id": "a6234888",
   "metadata": {},
   "source": [
    "## List Comprehensions"
   ]
  },
  {
   "cell_type": "code",
   "execution_count": 1,
   "id": "197eafbb",
   "metadata": {},
   "outputs": [
    {
     "name": "stdout",
     "output_type": "stream",
     "text": [
      "['P', 'y', 't', 'h', 'o', 'n', ' ', 'f', 'o', 'r', ' ', 'E', 'v', 'e', 'r', 'y', 'b', 'o', 'd', 'y']\n"
     ]
    }
   ],
   "source": [
    "course = 'Python for Everybody'\n",
    "mylist = []\n",
    "for letter in course:\n",
    "    mylist.append(letter)\n",
    "print(mylist)"
   ]
  },
  {
   "cell_type": "code",
   "execution_count": 2,
   "id": "97b78480",
   "metadata": {},
   "outputs": [],
   "source": [
    "mylist2 = [letter for letter in course]"
   ]
  },
  {
   "cell_type": "code",
   "execution_count": 4,
   "id": "3a9988e7",
   "metadata": {},
   "outputs": [
    {
     "name": "stdout",
     "output_type": "stream",
     "text": [
      "['P', 'y', 't', 'h', 'o', 'n', ' ', 'f', 'o', 'r', ' ', 'E', 'v', 'e', 'r', 'y', 'b', 'o', 'd', 'y']\n"
     ]
    }
   ],
   "source": [
    "print(mylist2)"
   ]
  },
  {
   "cell_type": "code",
   "execution_count": 8,
   "id": "afedea52",
   "metadata": {},
   "outputs": [],
   "source": [
    "vowels = [letter for letter in course if letter.lower() in 'aeiouy']"
   ]
  },
  {
   "cell_type": "code",
   "execution_count": 9,
   "id": "02d58f85",
   "metadata": {},
   "outputs": [
    {
     "name": "stdout",
     "output_type": "stream",
     "text": [
      "['y', 'o', 'o', 'E', 'e', 'y', 'o', 'y']\n"
     ]
    }
   ],
   "source": [
    "print(vowels)"
   ]
  },
  {
   "cell_type": "markdown",
   "id": "3e763aed",
   "metadata": {},
   "source": [
    "## Complex List Comprehensions"
   ]
  },
  {
   "cell_type": "code",
   "execution_count": 10,
   "id": "f0657302",
   "metadata": {},
   "outputs": [],
   "source": [
    "numbers = [num**2 for num in range(0,9)]"
   ]
  },
  {
   "cell_type": "code",
   "execution_count": 11,
   "id": "cb0410f9",
   "metadata": {},
   "outputs": [
    {
     "data": {
      "text/plain": [
       "[0, 1, 4, 9, 16, 25, 36, 49, 64]"
      ]
     },
     "execution_count": 11,
     "metadata": {},
     "output_type": "execute_result"
    }
   ],
   "source": [
    "numbers"
   ]
  },
  {
   "cell_type": "code",
   "execution_count": 17,
   "id": "2634133e",
   "metadata": {},
   "outputs": [
    {
     "name": "stdout",
     "output_type": "stream",
     "text": [
      "[-40.0, -4.0, 32.0, 50.0, 59.0, 77.0, 95.0, 122.0]\n"
     ]
    }
   ],
   "source": [
    "f = []\n",
    "c = [-40, -20, 0, 10, 15, 25, 35, 50]\n",
    "for temp in c:\n",
    "    temp = (temp*1.8) + 32\n",
    "    #print(temp)\n",
    "    f.append(temp)\n",
    "print(f)"
   ]
  },
  {
   "cell_type": "code",
   "execution_count": 18,
   "id": "7bbf9d21",
   "metadata": {},
   "outputs": [
    {
     "name": "stdout",
     "output_type": "stream",
     "text": [
      "[-40.0, -4.0, 32.0, 50.0, 59.0, 77.0, 95.0, 122.0]\n"
     ]
    }
   ],
   "source": [
    "c = [-40, -20, 0, 10, 15, 25, 35, 50]\n",
    "f = [(temp*1.8) + 32 for temp in c]\n",
    "print(f)"
   ]
  },
  {
   "cell_type": "code",
   "execution_count": 23,
   "id": "e087ce85",
   "metadata": {},
   "outputs": [
    {
     "name": "stdout",
     "output_type": "stream",
     "text": [
      "['T', 'o', 'n', 'y', ' ', 'i', 's', ' ', 'a', ' ', 'g', 'e', 'n', 'i', 'u', 's']\n"
     ]
    }
   ],
   "source": [
    "phrase = \"Tony is a genius\"\n",
    "myphrase = []\n",
    "for letter in phrase:\n",
    "    myphrase.append(letter)\n",
    "print(myphrase)"
   ]
  },
  {
   "cell_type": "code",
   "execution_count": 24,
   "id": "28b06adb",
   "metadata": {},
   "outputs": [],
   "source": [
    "myphrase2 = [letter for letter in phrase]"
   ]
  },
  {
   "cell_type": "code",
   "execution_count": 26,
   "id": "10574b40",
   "metadata": {},
   "outputs": [
    {
     "name": "stdout",
     "output_type": "stream",
     "text": [
      "['T', 'o', 'n', 'y', ' ', 'i', 's', ' ', 'a', ' ', 'g', 'e', 'n', 'i', 'u', 's']\n"
     ]
    }
   ],
   "source": [
    "print(myphrase)"
   ]
  },
  {
   "cell_type": "code",
   "execution_count": null,
   "id": "e9fabe62",
   "metadata": {},
   "outputs": [],
   "source": []
  }
 ],
 "metadata": {
  "kernelspec": {
   "display_name": "Python 3 (ipykernel)",
   "language": "python",
   "name": "python3"
  },
  "language_info": {
   "codemirror_mode": {
    "name": "ipython",
    "version": 3
   },
   "file_extension": ".py",
   "mimetype": "text/x-python",
   "name": "python",
   "nbconvert_exporter": "python",
   "pygments_lexer": "ipython3",
   "version": "3.9.7"
  }
 },
 "nbformat": 4,
 "nbformat_minor": 5
}
