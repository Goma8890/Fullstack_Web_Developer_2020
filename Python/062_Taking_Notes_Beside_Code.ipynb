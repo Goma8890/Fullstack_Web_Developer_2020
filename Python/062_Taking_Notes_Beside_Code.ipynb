{
 "cells": [
  {
   "cell_type": "markdown",
   "id": "95d53cc3",
   "metadata": {},
   "source": [
    "# A large title\n",
    "\n",
    "```\n",
    "print(\"Some code\")\n",
    "var = \"Python\"\n",
    "```\n",
    "\n",
    "Lorem Ipsum is `simply dummy text` of the printing and typesetting industry. Lorem Ipsum has been the industry's standard dummy text ever since the 1500s, when an unknown printer took a galley of type and scrambled it to make a type specimen book. It has survived not only five centuries, but also the leap into `electronic` typesetting, remaining essentially unchanged. It was popularised in the 1960s with the release of Letraset sheets containing Lorem Ipsum passages, and more recently with desktop publishing software like Aldus PageMaker including versions of Lorem Ipsum."
   ]
  },
  {
   "cell_type": "code",
   "execution_count": 1,
   "id": "19fc8ea7",
   "metadata": {},
   "outputs": [
    {
     "name": "stdout",
     "output_type": "stream",
     "text": [
      "Welcome to python for everybody\n"
     ]
    }
   ],
   "source": [
    "print(\"Welcome to python for everybody\")"
   ]
  },
  {
   "cell_type": "markdown",
   "id": "c22dcf04",
   "metadata": {},
   "source": [
    "This is how we write a print statement in python.\n",
    "\n",
    "ie `print(\"Hello\")`"
   ]
  },
  {
   "cell_type": "code",
   "execution_count": 2,
   "id": "da37c314",
   "metadata": {},
   "outputs": [
    {
     "name": "stdout",
     "output_type": "stream",
     "text": [
      "This is a link (see below)\n"
     ]
    }
   ],
   "source": [
    "print(\"This is a link (see below)\")"
   ]
  },
  {
   "cell_type": "markdown",
   "id": "8c7fafa8",
   "metadata": {},
   "source": [
    "[pythonforeverybody [dot] com](https://pythonforeverybody.com)"
   ]
  },
  {
   "cell_type": "code",
   "execution_count": 3,
   "id": "6db1b3cd",
   "metadata": {},
   "outputs": [
    {
     "name": "stdout",
     "output_type": "stream",
     "text": [
      "Pull quotes!\n"
     ]
    }
   ],
   "source": [
    "print(\"Pull quotes!\")"
   ]
  },
  {
   "cell_type": "markdown",
   "id": "8da1c029",
   "metadata": {},
   "source": [
    "> Lorem Ipsum is simply dummy text of the printing and typesetting industry. Lorem Ipsum has been the industry's standard dummy text ever since the 1500s, when an unknown printer took a galley of type and scrambled it to make a type specimen book. It has survived not only five centuries, but also the leap into electronic typesetting, remaining essentially unchanged. It was popularised in the 1960s with the release of Letraset sheets containing Lorem Ipsum passages, and more recently with desktop publishing software like Aldus PageMaker including versions of Lorem Ipsum."
   ]
  },
  {
   "cell_type": "code",
   "execution_count": null,
   "id": "57adb611",
   "metadata": {},
   "outputs": [],
   "source": []
  }
 ],
 "metadata": {
  "kernelspec": {
   "display_name": "Python 3 (ipykernel)",
   "language": "python",
   "name": "python3"
  },
  "language_info": {
   "codemirror_mode": {
    "name": "ipython",
    "version": 3
   },
   "file_extension": ".py",
   "mimetype": "text/x-python",
   "name": "python",
   "nbconvert_exporter": "python",
   "pygments_lexer": "ipython3",
   "version": "3.9.7"
  }
 },
 "nbformat": 4,
 "nbformat_minor": 5
}
