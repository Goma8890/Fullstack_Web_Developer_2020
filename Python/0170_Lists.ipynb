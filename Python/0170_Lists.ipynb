{
 "cells": [
  {
   "cell_type": "markdown",
   "id": "70c09984",
   "metadata": {},
   "source": [
    "# Lists"
   ]
  },
  {
   "cell_type": "code",
   "execution_count": 1,
   "id": "386125a4",
   "metadata": {},
   "outputs": [],
   "source": [
    "# Lists = Arrays\n",
    "lst = [1, 2, 3, 4, 5]\n",
    "st = \"One value to rule them all\"\n",
    "num = 1.0"
   ]
  },
  {
   "cell_type": "code",
   "execution_count": 4,
   "id": "6477e227",
   "metadata": {},
   "outputs": [],
   "source": [
    "my_cats = ['Henry', 'Zephyr']"
   ]
  },
  {
   "cell_type": "code",
   "execution_count": 5,
   "id": "bfefefd0",
   "metadata": {},
   "outputs": [
    {
     "data": {
      "text/plain": [
       "['Henry', 'Zephyr']"
      ]
     },
     "execution_count": 5,
     "metadata": {},
     "output_type": "execute_result"
    }
   ],
   "source": [
    "my_cats"
   ]
  },
  {
   "cell_type": "code",
   "execution_count": 6,
   "id": "8f6ef00c",
   "metadata": {},
   "outputs": [
    {
     "data": {
      "text/plain": [
       "[[1, 2, 3], [4, 5, 6], [7, 8, 9]]"
      ]
     },
     "execution_count": 6,
     "metadata": {},
     "output_type": "execute_result"
    }
   ],
   "source": [
    "# Data science we have list nested inside a list\n",
    "[\n",
    "    [1, 2, 3],\n",
    "    [4, 5, 6],\n",
    "    [7, 8, 9]\n",
    "]"
   ]
  },
  {
   "cell_type": "code",
   "execution_count": 7,
   "id": "a185f198",
   "metadata": {},
   "outputs": [
    {
     "data": {
      "text/plain": [
       "['Henry', 'Zephyr']"
      ]
     },
     "execution_count": 7,
     "metadata": {},
     "output_type": "execute_result"
    }
   ],
   "source": [
    "my_cats"
   ]
  },
  {
   "cell_type": "code",
   "execution_count": 8,
   "id": "aabd6a12",
   "metadata": {},
   "outputs": [
    {
     "data": {
      "text/plain": [
       "list"
      ]
     },
     "execution_count": 8,
     "metadata": {},
     "output_type": "execute_result"
    }
   ],
   "source": [
    "type(my_cats)"
   ]
  },
  {
   "cell_type": "code",
   "execution_count": 9,
   "id": "f45b7f8a",
   "metadata": {},
   "outputs": [],
   "source": [
    "my_cats.reverse()"
   ]
  },
  {
   "cell_type": "code",
   "execution_count": 34,
   "id": "ddec8789",
   "metadata": {},
   "outputs": [
    {
     "data": {
      "text/plain": [
       "['Zephyr', 'Henry']"
      ]
     },
     "execution_count": 34,
     "metadata": {},
     "output_type": "execute_result"
    }
   ],
   "source": [
    "my_cats"
   ]
  },
  {
   "cell_type": "code",
   "execution_count": 35,
   "id": "0ce605d4",
   "metadata": {},
   "outputs": [],
   "source": [
    "my_cats.append(\"Antonio\")"
   ]
  },
  {
   "cell_type": "code",
   "execution_count": 36,
   "id": "11b99a81",
   "metadata": {},
   "outputs": [
    {
     "data": {
      "text/plain": [
       "['Zephyr', 'Henry', 'Antonio']"
      ]
     },
     "execution_count": 36,
     "metadata": {},
     "output_type": "execute_result"
    }
   ],
   "source": [
    "my_cats"
   ]
  },
  {
   "cell_type": "code",
   "execution_count": 37,
   "id": "6ebfcde0",
   "metadata": {},
   "outputs": [],
   "source": [
    "my_cats.remove(\"Henry\")"
   ]
  },
  {
   "cell_type": "code",
   "execution_count": 38,
   "id": "c5696eae",
   "metadata": {},
   "outputs": [
    {
     "data": {
      "text/plain": [
       "['Zephyr', 'Antonio']"
      ]
     },
     "execution_count": 38,
     "metadata": {},
     "output_type": "execute_result"
    }
   ],
   "source": [
    "my_cats"
   ]
  },
  {
   "cell_type": "code",
   "execution_count": 39,
   "id": "89f75016",
   "metadata": {},
   "outputs": [],
   "source": [
    "var = my_cats.append(\"Henry\") # No need to assign a variable var"
   ]
  },
  {
   "cell_type": "code",
   "execution_count": 40,
   "id": "21b5773e",
   "metadata": {},
   "outputs": [
    {
     "data": {
      "text/plain": [
       "['Zephyr', 'Antonio', 'Henry']"
      ]
     },
     "execution_count": 40,
     "metadata": {},
     "output_type": "execute_result"
    }
   ],
   "source": [
    "my_cats"
   ]
  },
  {
   "cell_type": "code",
   "execution_count": 41,
   "id": "16c428f8",
   "metadata": {},
   "outputs": [],
   "source": [
    "var"
   ]
  },
  {
   "cell_type": "code",
   "execution_count": 42,
   "id": "c237a32d",
   "metadata": {},
   "outputs": [
    {
     "data": {
      "text/plain": [
       "NoneType"
      ]
     },
     "execution_count": 42,
     "metadata": {},
     "output_type": "execute_result"
    }
   ],
   "source": [
    "type(var)"
   ]
  },
  {
   "cell_type": "code",
   "execution_count": 43,
   "id": "7b6278cf",
   "metadata": {},
   "outputs": [
    {
     "name": "stdout",
     "output_type": "stream",
     "text": [
      "[4, 5, 6]\n"
     ]
    }
   ],
   "source": [
    "name = [1, 2, 3]\n",
    "name = [4, 5, 6]\n",
    "print(name)"
   ]
  },
  {
   "cell_type": "code",
   "execution_count": 44,
   "id": "69a5d1eb",
   "metadata": {},
   "outputs": [
    {
     "data": {
      "text/plain": [
       "['Zephyr', 'Antonio', 'Henry']"
      ]
     },
     "execution_count": 44,
     "metadata": {},
     "output_type": "execute_result"
    }
   ],
   "source": [
    "my_cats"
   ]
  },
  {
   "cell_type": "code",
   "execution_count": 45,
   "id": "fae5398f",
   "metadata": {},
   "outputs": [],
   "source": [
    "henry = my_cats.pop()"
   ]
  },
  {
   "cell_type": "code",
   "execution_count": 46,
   "id": "745b46e7",
   "metadata": {},
   "outputs": [
    {
     "data": {
      "text/plain": [
       "['Zephyr', 'Antonio']"
      ]
     },
     "execution_count": 46,
     "metadata": {},
     "output_type": "execute_result"
    }
   ],
   "source": [
    "my_cats"
   ]
  },
  {
   "cell_type": "code",
   "execution_count": 47,
   "id": "48ca9853",
   "metadata": {},
   "outputs": [
    {
     "data": {
      "text/plain": [
       "'Henry'"
      ]
     },
     "execution_count": 47,
     "metadata": {},
     "output_type": "execute_result"
    }
   ],
   "source": [
    "henry"
   ]
  },
  {
   "cell_type": "code",
   "execution_count": 48,
   "id": "54133b25",
   "metadata": {},
   "outputs": [
    {
     "data": {
      "text/plain": [
       "'Antonio'"
      ]
     },
     "execution_count": 48,
     "metadata": {},
     "output_type": "execute_result"
    }
   ],
   "source": [
    "my_cats.pop()"
   ]
  },
  {
   "cell_type": "code",
   "execution_count": 49,
   "id": "920146e7",
   "metadata": {},
   "outputs": [
    {
     "data": {
      "text/plain": [
       "['Zephyr']"
      ]
     },
     "execution_count": 49,
     "metadata": {},
     "output_type": "execute_result"
    }
   ],
   "source": [
    "my_cats"
   ]
  },
  {
   "cell_type": "code",
   "execution_count": null,
   "id": "25bef741",
   "metadata": {},
   "outputs": [],
   "source": []
  }
 ],
 "metadata": {
  "kernelspec": {
   "display_name": "Python 3 (ipykernel)",
   "language": "python",
   "name": "python3"
  },
  "language_info": {
   "codemirror_mode": {
    "name": "ipython",
    "version": 3
   },
   "file_extension": ".py",
   "mimetype": "text/x-python",
   "name": "python",
   "nbconvert_exporter": "python",
   "pygments_lexer": "ipython3",
   "version": "3.9.7"
  }
 },
 "nbformat": 4,
 "nbformat_minor": 5
}
