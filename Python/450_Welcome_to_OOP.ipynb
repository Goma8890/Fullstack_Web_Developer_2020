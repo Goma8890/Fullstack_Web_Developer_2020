{
 "cells": [
  {
   "cell_type": "markdown",
   "id": "18e37528",
   "metadata": {},
   "source": [
    "## OOP - Object Oriented Programming"
   ]
  },
  {
   "cell_type": "code",
   "execution_count": 25,
   "id": "18481aa6",
   "metadata": {},
   "outputs": [],
   "source": [
    "name = 'Python'"
   ]
  },
  {
   "cell_type": "code",
   "execution_count": 26,
   "id": "4b10205b",
   "metadata": {},
   "outputs": [
    {
     "name": "stdout",
     "output_type": "stream",
     "text": [
      "Python\n",
      "<class 'str'>\n"
     ]
    }
   ],
   "source": [
    "print(name)\n",
    "print(type(name))"
   ]
  },
  {
   "cell_type": "code",
   "execution_count": 27,
   "id": "7613a5ea",
   "metadata": {},
   "outputs": [
    {
     "data": {
      "text/plain": [
       "'PYTHON'"
      ]
     },
     "execution_count": 27,
     "metadata": {},
     "output_type": "execute_result"
    }
   ],
   "source": [
    "# A function inside a class is called a method\n",
    "name.upper()"
   ]
  },
  {
   "cell_type": "code",
   "execution_count": 28,
   "id": "26a4ee8d",
   "metadata": {},
   "outputs": [],
   "source": [
    "del name"
   ]
  },
  {
   "cell_type": "code",
   "execution_count": 39,
   "id": "eddce240",
   "metadata": {},
   "outputs": [],
   "source": [
    "class MyClassName:\n",
    "    def __init__(self, name='Person', hobby=\"Coding\"):\n",
    "        self.name = name\n",
    "        self.hobby = hobby\n",
    "        print(name)\n",
    "        print(hobby)\n",
    "    def say_hello(self):\n",
    "        print(\"Hello\")\n",
    "        \n",
    "    def get_name(self):\n",
    "        print(self.name)"
   ]
  },
  {
   "cell_type": "code",
   "execution_count": 40,
   "id": "22d3aa6d",
   "metadata": {},
   "outputs": [
    {
     "name": "stdout",
     "output_type": "stream",
     "text": [
      "Tony\n",
      "Reading\n"
     ]
    }
   ],
   "source": [
    "person = MyClassName(name=\"Tony\", hobby=\"Reading\")"
   ]
  },
  {
   "cell_type": "code",
   "execution_count": 41,
   "id": "d8de58a4",
   "metadata": {},
   "outputs": [
    {
     "data": {
      "text/plain": [
       "__main__.MyClassName"
      ]
     },
     "execution_count": 41,
     "metadata": {},
     "output_type": "execute_result"
    }
   ],
   "source": [
    "type(person)"
   ]
  },
  {
   "cell_type": "code",
   "execution_count": 42,
   "id": "31a04899",
   "metadata": {},
   "outputs": [
    {
     "name": "stdout",
     "output_type": "stream",
     "text": [
      "Hello\n"
     ]
    }
   ],
   "source": [
    "person.say_hello()"
   ]
  },
  {
   "cell_type": "code",
   "execution_count": 43,
   "id": "ed7a40a0",
   "metadata": {},
   "outputs": [
    {
     "name": "stdout",
     "output_type": "stream",
     "text": [
      "Tony\n"
     ]
    }
   ],
   "source": [
    "person.get_name()"
   ]
  },
  {
   "cell_type": "code",
   "execution_count": 44,
   "id": "907cf6e9",
   "metadata": {},
   "outputs": [
    {
     "data": {
      "text/plain": [
       "'Tony'"
      ]
     },
     "execution_count": 44,
     "metadata": {},
     "output_type": "execute_result"
    }
   ],
   "source": [
    "person.name"
   ]
  },
  {
   "cell_type": "code",
   "execution_count": 45,
   "id": "b061b1c1",
   "metadata": {},
   "outputs": [
    {
     "data": {
      "text/plain": [
       "'Reading'"
      ]
     },
     "execution_count": 45,
     "metadata": {},
     "output_type": "execute_result"
    }
   ],
   "source": [
    "person.hobby"
   ]
  },
  {
   "cell_type": "code",
   "execution_count": null,
   "id": "9e101d25",
   "metadata": {},
   "outputs": [],
   "source": []
  }
 ],
 "metadata": {
  "kernelspec": {
   "display_name": "Python 3 (ipykernel)",
   "language": "python",
   "name": "python3"
  },
  "language_info": {
   "codemirror_mode": {
    "name": "ipython",
    "version": 3
   },
   "file_extension": ".py",
   "mimetype": "text/x-python",
   "name": "python",
   "nbconvert_exporter": "python",
   "pygments_lexer": "ipython3",
   "version": "3.9.7"
  }
 },
 "nbformat": 4,
 "nbformat_minor": 5
}
