{
 "cells": [
  {
   "cell_type": "markdown",
   "id": "faa43923",
   "metadata": {},
   "source": [
    "## Python Scope"
   ]
  },
  {
   "cell_type": "code",
   "execution_count": 1,
   "id": "fcc51448",
   "metadata": {},
   "outputs": [
    {
     "name": "stdout",
     "output_type": "stream",
     "text": [
      "Python\n"
     ]
    }
   ],
   "source": [
    "language = 'Python'\n",
    "def change_language():\n",
    "    language = 'Javascript'\n",
    "    return language\n",
    "print(language)"
   ]
  },
  {
   "cell_type": "code",
   "execution_count": 3,
   "id": "bd8ddcc2",
   "metadata": {},
   "outputs": [
    {
     "data": {
      "text/plain": [
       "'Javascript'"
      ]
     },
     "execution_count": 3,
     "metadata": {},
     "output_type": "execute_result"
    }
   ],
   "source": [
    "change_language()"
   ]
  },
  {
   "cell_type": "code",
   "execution_count": 4,
   "id": "1c07a16c",
   "metadata": {},
   "outputs": [
    {
     "data": {
      "text/plain": [
       "'Python'"
      ]
     },
     "execution_count": 4,
     "metadata": {},
     "output_type": "execute_result"
    }
   ],
   "source": [
    "language"
   ]
  },
  {
   "cell_type": "code",
   "execution_count": 9,
   "id": "1bea8c7e",
   "metadata": {},
   "outputs": [],
   "source": [
    "# Creatinga global variable\n",
    "name = 'Tony'\n",
    "def greeting():\n",
    "#     Creating an enclosing variable\n",
    "#     name = \"Lindy\"\n",
    "    \n",
    "    def say_hello():\n",
    "#         Creating a local variable\n",
    "#         name = \"Keanu\"\n",
    "        print(\"Name is \", name)\n",
    "        \n",
    "    say_hello()"
   ]
  },
  {
   "cell_type": "code",
   "execution_count": 10,
   "id": "69785846",
   "metadata": {},
   "outputs": [
    {
     "name": "stdout",
     "output_type": "stream",
     "text": [
      "Name is  Tony\n"
     ]
    }
   ],
   "source": [
    "greeting()"
   ]
  },
  {
   "cell_type": "code",
   "execution_count": 19,
   "id": "e5b48355",
   "metadata": {},
   "outputs": [],
   "source": [
    "# website = 'pythonforeverybody.com'\n",
    "def get_website(website='pythonforeverybody.com'):\n",
    "#     website = 'nothing written here'\n",
    "    return website"
   ]
  },
  {
   "cell_type": "code",
   "execution_count": 20,
   "id": "c070eb38",
   "metadata": {},
   "outputs": [
    {
     "data": {
      "text/plain": [
       "'anything else'"
      ]
     },
     "execution_count": 20,
     "metadata": {},
     "output_type": "execute_result"
    }
   ],
   "source": [
    "get_website('anything else')"
   ]
  },
  {
   "cell_type": "code",
   "execution_count": null,
   "id": "9b48528b",
   "metadata": {},
   "outputs": [],
   "source": []
  }
 ],
 "metadata": {
  "kernelspec": {
   "display_name": "Python 3 (ipykernel)",
   "language": "python",
   "name": "python3"
  },
  "language_info": {
   "codemirror_mode": {
    "name": "ipython",
    "version": 3
   },
   "file_extension": ".py",
   "mimetype": "text/x-python",
   "name": "python",
   "nbconvert_exporter": "python",
   "pygments_lexer": "ipython3",
   "version": "3.9.7"
  }
 },
 "nbformat": 4,
 "nbformat_minor": 5
}
