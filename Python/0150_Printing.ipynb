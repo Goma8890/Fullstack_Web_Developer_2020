{
 "cells": [
  {
   "cell_type": "markdown",
   "id": "d6c25ab8",
   "metadata": {},
   "source": [
    "# Printing"
   ]
  },
  {
   "cell_type": "code",
   "execution_count": 1,
   "id": "301d1c81",
   "metadata": {},
   "outputs": [],
   "source": [
    "course = \"Python for Everybody\""
   ]
  },
  {
   "cell_type": "code",
   "execution_count": 3,
   "id": "d60c80c6",
   "metadata": {},
   "outputs": [
    {
     "name": "stdout",
     "output_type": "stream",
     "text": [
      "The course you are in is Python for Everybody\n"
     ]
    }
   ],
   "source": [
    "print(\"The course you are in is {}\".format(course))"
   ]
  },
  {
   "cell_type": "code",
   "execution_count": 6,
   "id": "9301dacb",
   "metadata": {},
   "outputs": [],
   "source": [
    "greeting = \"Welcome {}, you are sitting {}\".format(\"Antonio\", course)"
   ]
  },
  {
   "cell_type": "code",
   "execution_count": 7,
   "id": "a100ba99",
   "metadata": {},
   "outputs": [
    {
     "data": {
      "text/plain": [
       "'Welcome Antonio, you are sitting Python for Everybody'"
      ]
     },
     "execution_count": 7,
     "metadata": {},
     "output_type": "execute_result"
    }
   ],
   "source": [
    "greeting"
   ]
  },
  {
   "cell_type": "code",
   "execution_count": 8,
   "id": "0f056d11",
   "metadata": {},
   "outputs": [
    {
     "name": "stdout",
     "output_type": "stream",
     "text": [
      "Python 3.9.7\n"
     ]
    }
   ],
   "source": [
    "!python -V"
   ]
  },
  {
   "cell_type": "code",
   "execution_count": 9,
   "id": "29a12c88",
   "metadata": {},
   "outputs": [
    {
     "data": {
      "text/plain": [
       "'Hello HENRY welcome to pYTHON FOR eVERYBODY'"
      ]
     },
     "execution_count": 9,
     "metadata": {},
     "output_type": "execute_result"
    }
   ],
   "source": [
    "name = 'Henry'\n",
    "f\"Hello {name.upper()} welcome to {course.swapcase()}\" # In Python >= 3.6 u"
   ]
  },
  {
   "cell_type": "code",
   "execution_count": 10,
   "id": "fe2a61ca",
   "metadata": {},
   "outputs": [
    {
     "name": "stdout",
     "output_type": "stream",
     "text": [
      "What is your name? Antonio\n",
      "Hello Antonio, welcome to Python!\n"
     ]
    }
   ],
   "source": [
    "user_name = input(\"What is your name? \")\n",
    "print(f\"Hello {user_name}, welcome to Python!\")"
   ]
  }
 ],
 "metadata": {
  "kernelspec": {
   "display_name": "Python 3 (ipykernel)",
   "language": "python",
   "name": "python3"
  },
  "language_info": {
   "codemirror_mode": {
    "name": "ipython",
    "version": 3
   },
   "file_extension": ".py",
   "mimetype": "text/x-python",
   "name": "python",
   "nbconvert_exporter": "python",
   "pygments_lexer": "ipython3",
   "version": "3.9.7"
  }
 },
 "nbformat": 4,
 "nbformat_minor": 5
}
