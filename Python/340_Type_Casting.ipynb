{
 "cells": [
  {
   "cell_type": "markdown",
   "id": "d0546d24",
   "metadata": {},
   "source": [
    "# Type Casting"
   ]
  },
  {
   "cell_type": "code",
   "execution_count": 1,
   "id": "d0f2720f",
   "metadata": {},
   "outputs": [
    {
     "data": {
      "text/plain": [
       "True"
      ]
     },
     "execution_count": 1,
     "metadata": {},
     "output_type": "execute_result"
    }
   ],
   "source": [
    "20 == 20"
   ]
  },
  {
   "cell_type": "code",
   "execution_count": 2,
   "id": "34c0945a",
   "metadata": {},
   "outputs": [
    {
     "data": {
      "text/plain": [
       "True"
      ]
     },
     "execution_count": 2,
     "metadata": {},
     "output_type": "execute_result"
    }
   ],
   "source": [
    "20 == 20.0"
   ]
  },
  {
   "cell_type": "code",
   "execution_count": 3,
   "id": "d0bb1a1e",
   "metadata": {},
   "outputs": [
    {
     "data": {
      "text/plain": [
       "False"
      ]
     },
     "execution_count": 3,
     "metadata": {},
     "output_type": "execute_result"
    }
   ],
   "source": [
    "20 == \"20\""
   ]
  },
  {
   "cell_type": "code",
   "execution_count": 7,
   "id": "894540f7",
   "metadata": {},
   "outputs": [
    {
     "name": "stdout",
     "output_type": "stream",
     "text": [
      "What is your age (enter a number): 30\n"
     ]
    }
   ],
   "source": [
    "age = input(\"What is your age (enter a number): \")"
   ]
  },
  {
   "cell_type": "code",
   "execution_count": 8,
   "id": "5d5da4ac",
   "metadata": {},
   "outputs": [
    {
     "data": {
      "text/plain": [
       "str"
      ]
     },
     "execution_count": 8,
     "metadata": {},
     "output_type": "execute_result"
    }
   ],
   "source": [
    "type(age)"
   ]
  },
  {
   "cell_type": "code",
   "execution_count": 9,
   "id": "8901614f",
   "metadata": {},
   "outputs": [
    {
     "data": {
      "text/plain": [
       "False"
      ]
     },
     "execution_count": 9,
     "metadata": {},
     "output_type": "execute_result"
    }
   ],
   "source": [
    "age == 30"
   ]
  },
  {
   "cell_type": "code",
   "execution_count": 10,
   "id": "b48ac979",
   "metadata": {},
   "outputs": [
    {
     "data": {
      "text/plain": [
       "30"
      ]
     },
     "execution_count": 10,
     "metadata": {},
     "output_type": "execute_result"
    }
   ],
   "source": [
    "int(age)"
   ]
  },
  {
   "cell_type": "code",
   "execution_count": 11,
   "id": "e4d57b70",
   "metadata": {},
   "outputs": [],
   "source": [
    "age = int(age)"
   ]
  },
  {
   "cell_type": "code",
   "execution_count": 12,
   "id": "9edb9d1e",
   "metadata": {},
   "outputs": [
    {
     "data": {
      "text/plain": [
       "int"
      ]
     },
     "execution_count": 12,
     "metadata": {},
     "output_type": "execute_result"
    }
   ],
   "source": [
    "type(age)"
   ]
  },
  {
   "cell_type": "code",
   "execution_count": 13,
   "id": "9c055228",
   "metadata": {},
   "outputs": [
    {
     "data": {
      "text/plain": [
       "True"
      ]
     },
     "execution_count": 13,
     "metadata": {},
     "output_type": "execute_result"
    }
   ],
   "source": [
    "age == 30"
   ]
  },
  {
   "cell_type": "code",
   "execution_count": 16,
   "id": "5aba3815",
   "metadata": {},
   "outputs": [],
   "source": [
    "tup = (1, 2, 3, 5)"
   ]
  },
  {
   "cell_type": "code",
   "execution_count": 17,
   "id": "c05af322",
   "metadata": {},
   "outputs": [
    {
     "data": {
      "text/plain": [
       "(1, 2, 3, 5)"
      ]
     },
     "execution_count": 17,
     "metadata": {},
     "output_type": "execute_result"
    }
   ],
   "source": [
    "tup"
   ]
  },
  {
   "cell_type": "code",
   "execution_count": 18,
   "id": "6ba12db1",
   "metadata": {},
   "outputs": [
    {
     "data": {
      "text/plain": [
       "5"
      ]
     },
     "execution_count": 18,
     "metadata": {},
     "output_type": "execute_result"
    }
   ],
   "source": [
    "tup[3]"
   ]
  },
  {
   "cell_type": "code",
   "execution_count": 19,
   "id": "9a9e39c2",
   "metadata": {},
   "outputs": [
    {
     "name": "stdout",
     "output_type": "stream",
     "text": [
      "[1, 2, 3, 5]\n",
      "<class 'list'>\n"
     ]
    }
   ],
   "source": [
    "# tup -> list -> edit the list -> tup\n",
    "lst = list(tup)\n",
    "print(lst)\n",
    "print(type(lst))"
   ]
  },
  {
   "cell_type": "code",
   "execution_count": 20,
   "id": "7036b569",
   "metadata": {},
   "outputs": [],
   "source": [
    "lst[3] = 4"
   ]
  },
  {
   "cell_type": "code",
   "execution_count": 21,
   "id": "b6d56907",
   "metadata": {},
   "outputs": [
    {
     "data": {
      "text/plain": [
       "[1, 2, 3, 4]"
      ]
     },
     "execution_count": 21,
     "metadata": {},
     "output_type": "execute_result"
    }
   ],
   "source": [
    "lst"
   ]
  },
  {
   "cell_type": "code",
   "execution_count": 22,
   "id": "3520113e",
   "metadata": {},
   "outputs": [],
   "source": [
    "tup = tuple(lst)"
   ]
  },
  {
   "cell_type": "code",
   "execution_count": 23,
   "id": "ee8ed7da",
   "metadata": {},
   "outputs": [
    {
     "data": {
      "text/plain": [
       "(1, 2, 3, 4)"
      ]
     },
     "execution_count": 23,
     "metadata": {},
     "output_type": "execute_result"
    }
   ],
   "source": [
    "tup"
   ]
  },
  {
   "cell_type": "code",
   "execution_count": 24,
   "id": "8384125b",
   "metadata": {},
   "outputs": [
    {
     "name": "stdout",
     "output_type": "stream",
     "text": [
      "What is your name?tony\n"
     ]
    }
   ],
   "source": [
    "name = input(\"What is your name?\")"
   ]
  },
  {
   "cell_type": "code",
   "execution_count": 27,
   "id": "b1985877",
   "metadata": {},
   "outputs": [],
   "source": [
    "has_name = bool(name)"
   ]
  },
  {
   "cell_type": "code",
   "execution_count": 28,
   "id": "12284992",
   "metadata": {},
   "outputs": [
    {
     "data": {
      "text/plain": [
       "bool"
      ]
     },
     "execution_count": 28,
     "metadata": {},
     "output_type": "execute_result"
    }
   ],
   "source": [
    "type(has_name)"
   ]
  },
  {
   "cell_type": "code",
   "execution_count": 29,
   "id": "952cb873",
   "metadata": {},
   "outputs": [
    {
     "data": {
      "text/plain": [
       "True"
      ]
     },
     "execution_count": 29,
     "metadata": {},
     "output_type": "execute_result"
    }
   ],
   "source": [
    "has_name"
   ]
  },
  {
   "cell_type": "code",
   "execution_count": 45,
   "id": "a23338e7",
   "metadata": {},
   "outputs": [
    {
     "name": "stdout",
     "output_type": "stream",
     "text": [
      "The name is  tony\n"
     ]
    }
   ],
   "source": [
    "if has_name:\n",
    "    print(\"The name is \", name) "
   ]
  },
  {
   "cell_type": "code",
   "execution_count": 54,
   "id": "9646c9d5",
   "metadata": {},
   "outputs": [],
   "source": [
    "#str -> ints\n",
    "# Removing the duplicates from a list\n",
    "groceries = list(set(['Milk', 'Bread', 'Eggs', 'Milk', 'Eggs', 'Oranges', 'Chocolate']))"
   ]
  },
  {
   "cell_type": "code",
   "execution_count": 55,
   "id": "3a2555d1",
   "metadata": {},
   "outputs": [
    {
     "data": {
      "text/plain": [
       "['Milk', 'Bread', 'Oranges', 'Chocolate', 'Eggs']"
      ]
     },
     "execution_count": 55,
     "metadata": {},
     "output_type": "execute_result"
    }
   ],
   "source": [
    "groceries"
   ]
  },
  {
   "cell_type": "code",
   "execution_count": 57,
   "id": "125de879",
   "metadata": {},
   "outputs": [],
   "source": [
    "groceries.sort()"
   ]
  },
  {
   "cell_type": "code",
   "execution_count": 58,
   "id": "cf0d6833",
   "metadata": {},
   "outputs": [
    {
     "data": {
      "text/plain": [
       "['Bread', 'Chocolate', 'Eggs', 'Milk', 'Oranges']"
      ]
     },
     "execution_count": 58,
     "metadata": {},
     "output_type": "execute_result"
    }
   ],
   "source": [
    "groceries"
   ]
  },
  {
   "cell_type": "code",
   "execution_count": 63,
   "id": "23f7c446",
   "metadata": {},
   "outputs": [],
   "source": [
    "dictionary = {\n",
    "    'key': \"value\",\n",
    "    \"Key2\": \"Value2\",\n",
    "}"
   ]
  },
  {
   "cell_type": "code",
   "execution_count": 65,
   "id": "ae591497",
   "metadata": {},
   "outputs": [
    {
     "data": {
      "text/plain": [
       "dict_items([('key', 'value'), ('Key2', 'Value2')])"
      ]
     },
     "execution_count": 65,
     "metadata": {},
     "output_type": "execute_result"
    }
   ],
   "source": [
    "dictionary.items()"
   ]
  },
  {
   "cell_type": "code",
   "execution_count": 67,
   "id": "05c091d8",
   "metadata": {},
   "outputs": [
    {
     "data": {
      "text/plain": [
       "[('key', 'value'), ('Key2', 'Value2')]"
      ]
     },
     "execution_count": 67,
     "metadata": {},
     "output_type": "execute_result"
    }
   ],
   "source": [
    "list(dictionary.items())"
   ]
  },
  {
   "cell_type": "code",
   "execution_count": 68,
   "id": "fde379a7",
   "metadata": {},
   "outputs": [
    {
     "data": {
      "text/plain": [
       "(('key', 'value'), ('Key2', 'Value2'))"
      ]
     },
     "execution_count": 68,
     "metadata": {},
     "output_type": "execute_result"
    }
   ],
   "source": [
    "tuple(dictionary.items())"
   ]
  },
  {
   "cell_type": "code",
   "execution_count": 69,
   "id": "57b010ff",
   "metadata": {},
   "outputs": [
    {
     "data": {
      "text/plain": [
       "\"dict_items([('key', 'value'), ('Key2', 'Value2')])\""
      ]
     },
     "execution_count": 69,
     "metadata": {},
     "output_type": "execute_result"
    }
   ],
   "source": [
    "str(dictionary.items())"
   ]
  },
  {
   "cell_type": "code",
   "execution_count": null,
   "id": "06be7712",
   "metadata": {},
   "outputs": [],
   "source": []
  }
 ],
 "metadata": {
  "kernelspec": {
   "display_name": "Python 3 (ipykernel)",
   "language": "python",
   "name": "python3"
  },
  "language_info": {
   "codemirror_mode": {
    "name": "ipython",
    "version": 3
   },
   "file_extension": ".py",
   "mimetype": "text/x-python",
   "name": "python",
   "nbconvert_exporter": "python",
   "pygments_lexer": "ipython3",
   "version": "3.9.7"
  }
 },
 "nbformat": 4,
 "nbformat_minor": 5
}
