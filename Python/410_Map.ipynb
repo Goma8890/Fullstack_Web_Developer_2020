{
 "cells": [
  {
   "cell_type": "markdown",
   "id": "b7e3c8d9",
   "metadata": {},
   "source": [
    "## Map"
   ]
  },
  {
   "cell_type": "code",
   "execution_count": 12,
   "id": "fc99f0d3",
   "metadata": {},
   "outputs": [],
   "source": [
    "'''\n",
    "Mapping is a way to loop through a lirateable and play a \n",
    "function to every single item in a single line of code.\n",
    "'''\n",
    "nums = [1, -5, 7.25, 99]"
   ]
  },
  {
   "cell_type": "code",
   "execution_count": 35,
   "id": "15589d02",
   "metadata": {},
   "outputs": [
    {
     "ename": "SyntaxError",
     "evalue": "'return' outside function (Temp/ipykernel_11936/2657043640.py, line 8)",
     "output_type": "error",
     "traceback": [
      "\u001b[1;36m  File \u001b[1;32m\"C:\\Users\\ANTONI~1\\AppData\\Local\\Temp/ipykernel_11936/2657043640.py\"\u001b[1;36m, line \u001b[1;32m8\u001b[0m\n\u001b[1;33m    return num**2\u001b[0m\n\u001b[1;37m    ^\u001b[0m\n\u001b[1;31mSyntaxError\u001b[0m\u001b[1;31m:\u001b[0m 'return' outside function\n"
     ]
    }
   ],
   "source": [
    "# def func_name():\n",
    "for num in nums:\n",
    "    if num > 2:\n",
    "        pass\n",
    "    else:\n",
    "        pass\n",
    "    \n",
    "    return num**2\n"
   ]
  },
  {
   "cell_type": "code",
   "execution_count": 25,
   "id": "23e34360",
   "metadata": {},
   "outputs": [],
   "source": [
    "new_nums = [num*4 for num in nums]"
   ]
  },
  {
   "cell_type": "code",
   "execution_count": 26,
   "id": "72cba43c",
   "metadata": {},
   "outputs": [
    {
     "data": {
      "text/plain": [
       "[4, -20, 29.0, 396]"
      ]
     },
     "execution_count": 26,
     "metadata": {},
     "output_type": "execute_result"
    }
   ],
   "source": [
    "new_nums"
   ]
  },
  {
   "cell_type": "code",
   "execution_count": 36,
   "id": "0e2f86c7",
   "metadata": {},
   "outputs": [],
   "source": [
    "def new_func(num):\n",
    "    if num > 5:\n",
    "        num = num + 4\n",
    "    else:\n",
    "        num = num - 4\n",
    "        \n",
    "    return num**2"
   ]
  },
  {
   "cell_type": "code",
   "execution_count": 37,
   "id": "5d02a63e",
   "metadata": {},
   "outputs": [
    {
     "data": {
      "text/plain": [
       "[1, -5, 7.25, 99]"
      ]
     },
     "execution_count": 37,
     "metadata": {},
     "output_type": "execute_result"
    }
   ],
   "source": [
    "nums"
   ]
  },
  {
   "cell_type": "code",
   "execution_count": 38,
   "id": "f894fe74",
   "metadata": {},
   "outputs": [
    {
     "name": "stdout",
     "output_type": "stream",
     "text": [
      "9\n",
      "81\n",
      "126.5625\n",
      "10609\n"
     ]
    }
   ],
   "source": [
    "for new_num in map(new_func, nums):\n",
    "    print(new_num)"
   ]
  },
  {
   "cell_type": "code",
   "execution_count": 39,
   "id": "d8d64424",
   "metadata": {},
   "outputs": [
    {
     "data": {
      "text/plain": [
       "3600"
      ]
     },
     "execution_count": 39,
     "metadata": {},
     "output_type": "execute_result"
    }
   ],
   "source": [
    "new_func(56)"
   ]
  },
  {
   "cell_type": "code",
   "execution_count": 44,
   "id": "2f19b3e2",
   "metadata": {},
   "outputs": [],
   "source": [
    "# map(new_func, nums)\n",
    "# m = map(new_func, nums)\n",
    "m = list(map(new_func, nums))"
   ]
  },
  {
   "cell_type": "code",
   "execution_count": 45,
   "id": "7e6e3c03",
   "metadata": {},
   "outputs": [
    {
     "data": {
      "text/plain": [
       "[9, 81, 126.5625, 10609]"
      ]
     },
     "execution_count": 45,
     "metadata": {},
     "output_type": "execute_result"
    }
   ],
   "source": [
    "m"
   ]
  },
  {
   "cell_type": "code",
   "execution_count": 46,
   "id": "697086d2",
   "metadata": {},
   "outputs": [],
   "source": [
    "names = [\"Tony\", \"Lindy\", \"Keanu\"]\n",
    "def handle_name(name):\n",
    "    name = name.lower()\n",
    "    if name == \"tony\":\n",
    "        return \"Hi\"\n",
    "    elif name == \"lindy\":\n",
    "        return \"Ola\"\n",
    "    elif name == \"keanu\":\n",
    "        return \"Hello\"\n",
    "    else:\n",
    "        retunr = \"Not Hnadled\"\n",
    "        "
   ]
  },
  {
   "cell_type": "code",
   "execution_count": 53,
   "id": "5416f620",
   "metadata": {},
   "outputs": [
    {
     "name": "stdout",
     "output_type": "stream",
     "text": [
      "['Hi', 'Ola', 'Hello']\n"
     ]
    }
   ],
   "source": [
    "descriptions = []\n",
    "for description in map(handle_name, names):\n",
    "#     print(description)\n",
    "    descriptions.append(description)\n",
    "print(descriptions)"
   ]
  },
  {
   "cell_type": "code",
   "execution_count": 54,
   "id": "3a8990e9",
   "metadata": {},
   "outputs": [],
   "source": [
    "description = list(map(handle_name, names))"
   ]
  },
  {
   "cell_type": "code",
   "execution_count": 55,
   "id": "676cef13",
   "metadata": {},
   "outputs": [
    {
     "data": {
      "text/plain": [
       "['Hi', 'Ola', 'Hello']"
      ]
     },
     "execution_count": 55,
     "metadata": {},
     "output_type": "execute_result"
    }
   ],
   "source": [
    "description"
   ]
  },
  {
   "cell_type": "code",
   "execution_count": 57,
   "id": "a49cdcea",
   "metadata": {},
   "outputs": [],
   "source": [
    "description = []\n",
    "for name in names:\n",
    "    desc = handle_name(name)\n",
    "    descriptions.append(desc)"
   ]
  },
  {
   "cell_type": "code",
   "execution_count": 58,
   "id": "e6af8f9c",
   "metadata": {},
   "outputs": [
    {
     "name": "stdout",
     "output_type": "stream",
     "text": [
      "['Hi', 'Ola', 'Hello', 'Hi', 'Ola', 'Hello']\n"
     ]
    }
   ],
   "source": [
    "print(descriptions)"
   ]
  },
  {
   "cell_type": "code",
   "execution_count": null,
   "id": "60889433",
   "metadata": {},
   "outputs": [],
   "source": []
  }
 ],
 "metadata": {
  "kernelspec": {
   "display_name": "Python 3 (ipykernel)",
   "language": "python",
   "name": "python3"
  },
  "language_info": {
   "codemirror_mode": {
    "name": "ipython",
    "version": 3
   },
   "file_extension": ".py",
   "mimetype": "text/x-python",
   "name": "python",
   "nbconvert_exporter": "python",
   "pygments_lexer": "ipython3",
   "version": "3.9.7"
  }
 },
 "nbformat": 4,
 "nbformat_minor": 5
}
