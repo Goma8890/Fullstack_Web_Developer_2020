{
 "cells": [
  {
   "cell_type": "markdown",
   "id": "4f572114",
   "metadata": {},
   "source": [
    "## Functions"
   ]
  },
  {
   "cell_type": "code",
   "execution_count": 1,
   "id": "4673b5c4",
   "metadata": {},
   "outputs": [],
   "source": [
    "def func_name():\n",
    "    print(\"Hello\")"
   ]
  },
  {
   "cell_type": "code",
   "execution_count": 3,
   "id": "60c6190b",
   "metadata": {},
   "outputs": [
    {
     "name": "stdout",
     "output_type": "stream",
     "text": [
      "Hello\n"
     ]
    }
   ],
   "source": [
    "func_name()"
   ]
  },
  {
   "cell_type": "code",
   "execution_count": 4,
   "id": "32b3c729",
   "metadata": {},
   "outputs": [],
   "source": [
    "def add_two_numbers(num1):\n",
    "    answer = num1 + 3.14\n",
    "    print(answer)\n",
    "    "
   ]
  },
  {
   "cell_type": "code",
   "execution_count": 7,
   "id": "e63a26b6",
   "metadata": {},
   "outputs": [
    {
     "name": "stdout",
     "output_type": "stream",
     "text": [
      "83.14\n"
     ]
    }
   ],
   "source": [
    "add_two_numbers(80)"
   ]
  },
  {
   "cell_type": "code",
   "execution_count": 8,
   "id": "30c55528",
   "metadata": {},
   "outputs": [],
   "source": [
    "def add_two_numbers(num1, num2):\n",
    "    answer = num1 + num2\n",
    "    print(answer)"
   ]
  },
  {
   "cell_type": "code",
   "execution_count": 9,
   "id": "87e109dd",
   "metadata": {},
   "outputs": [
    {
     "name": "stdout",
     "output_type": "stream",
     "text": [
      "66\n"
     ]
    }
   ],
   "source": [
    "add_two_numbers(42, 24)"
   ]
  },
  {
   "cell_type": "code",
   "execution_count": 10,
   "id": "5e5e61e4",
   "metadata": {},
   "outputs": [
    {
     "ename": "NameError",
     "evalue": "name 'answer' is not defined",
     "output_type": "error",
     "traceback": [
      "\u001b[1;31m---------------------------------------------------------------------------\u001b[0m",
      "\u001b[1;31mNameError\u001b[0m                                 Traceback (most recent call last)",
      "\u001b[1;32mC:\\Users\\ANTONI~1\\AppData\\Local\\Temp/ipykernel_12684/1702431132.py\u001b[0m in \u001b[0;36m<module>\u001b[1;34m\u001b[0m\n\u001b[1;32m----> 1\u001b[1;33m \u001b[0manswer\u001b[0m\u001b[1;33m\u001b[0m\u001b[1;33m\u001b[0m\u001b[0m\n\u001b[0m",
      "\u001b[1;31mNameError\u001b[0m: name 'answer' is not defined"
     ]
    }
   ],
   "source": [
    "answer"
   ]
  },
  {
   "cell_type": "code",
   "execution_count": 11,
   "id": "7ab83502",
   "metadata": {},
   "outputs": [
    {
     "name": "stdout",
     "output_type": "stream",
     "text": [
      "46\n"
     ]
    }
   ],
   "source": [
    "total = add_two_numbers(12, 34)"
   ]
  },
  {
   "cell_type": "code",
   "execution_count": 12,
   "id": "b58dd0c2",
   "metadata": {},
   "outputs": [],
   "source": [
    "total"
   ]
  },
  {
   "cell_type": "code",
   "execution_count": 13,
   "id": "3b71e725",
   "metadata": {},
   "outputs": [
    {
     "data": {
      "text/plain": [
       "NoneType"
      ]
     },
     "execution_count": 13,
     "metadata": {},
     "output_type": "execute_result"
    }
   ],
   "source": [
    "type(total)"
   ]
  },
  {
   "cell_type": "code",
   "execution_count": 14,
   "id": "01b9c970",
   "metadata": {},
   "outputs": [],
   "source": [
    "def get_name():\n",
    "    return 'Tony'"
   ]
  },
  {
   "cell_type": "code",
   "execution_count": 15,
   "id": "0ca1ae7f",
   "metadata": {},
   "outputs": [
    {
     "data": {
      "text/plain": [
       "'Tony'"
      ]
     },
     "execution_count": 15,
     "metadata": {},
     "output_type": "execute_result"
    }
   ],
   "source": [
    "get_name()"
   ]
  },
  {
   "cell_type": "code",
   "execution_count": 16,
   "id": "084d4010",
   "metadata": {},
   "outputs": [],
   "source": [
    "name = get_name()"
   ]
  },
  {
   "cell_type": "code",
   "execution_count": 17,
   "id": "2a0930d9",
   "metadata": {},
   "outputs": [
    {
     "name": "stdout",
     "output_type": "stream",
     "text": [
      "Tony\n"
     ]
    }
   ],
   "source": [
    "print(name)"
   ]
  },
  {
   "cell_type": "code",
   "execution_count": 18,
   "id": "17855c4a",
   "metadata": {},
   "outputs": [
    {
     "data": {
      "text/plain": [
       "str"
      ]
     },
     "execution_count": 18,
     "metadata": {},
     "output_type": "execute_result"
    }
   ],
   "source": [
    "type(name)"
   ]
  },
  {
   "cell_type": "code",
   "execution_count": 19,
   "id": "eecc04e6",
   "metadata": {},
   "outputs": [],
   "source": [
    "def greeting(name):\n",
    "    return f'Welcome to Python for Everybody, {name}'"
   ]
  },
  {
   "cell_type": "code",
   "execution_count": 20,
   "id": "68c2168a",
   "metadata": {},
   "outputs": [
    {
     "data": {
      "text/plain": [
       "'Welcome to Python for Everybody, Tony'"
      ]
     },
     "execution_count": 20,
     "metadata": {},
     "output_type": "execute_result"
    }
   ],
   "source": [
    "greeting('Tony')"
   ]
  },
  {
   "cell_type": "code",
   "execution_count": 21,
   "id": "f2e94891",
   "metadata": {},
   "outputs": [],
   "source": [
    "sentence = greeting('Tony')"
   ]
  },
  {
   "cell_type": "code",
   "execution_count": 22,
   "id": "17566405",
   "metadata": {},
   "outputs": [
    {
     "data": {
      "text/plain": [
       "'Welcome to Python for Everybody, Tony'"
      ]
     },
     "execution_count": 22,
     "metadata": {},
     "output_type": "execute_result"
    }
   ],
   "source": [
    "sentence"
   ]
  },
  {
   "cell_type": "code",
   "execution_count": 23,
   "id": "853e9dd6",
   "metadata": {},
   "outputs": [
    {
     "data": {
      "text/plain": [
       "6"
      ]
     },
     "execution_count": 23,
     "metadata": {},
     "output_type": "execute_result"
    }
   ],
   "source": [
    "sentence.count(\"o\")"
   ]
  },
  {
   "cell_type": "code",
   "execution_count": 25,
   "id": "52bd2f76",
   "metadata": {},
   "outputs": [
    {
     "data": {
      "text/plain": [
       "'WELCOME TO PYTHON FOR EVERYBODY, TONY'"
      ]
     },
     "execution_count": 25,
     "metadata": {},
     "output_type": "execute_result"
    }
   ],
   "source": [
    "sentence.upper()"
   ]
  },
  {
   "cell_type": "code",
   "execution_count": 26,
   "id": "e251fe27",
   "metadata": {},
   "outputs": [],
   "source": [
    "def can_drink(age):\n",
    "    if age > 18:\n",
    "        return True\n",
    "    else:\n",
    "        return False"
   ]
  },
  {
   "cell_type": "code",
   "execution_count": 30,
   "id": "0538e2af",
   "metadata": {},
   "outputs": [],
   "source": [
    "can_tony_drink = can_drink(14)"
   ]
  },
  {
   "cell_type": "code",
   "execution_count": 31,
   "id": "ab3e58b2",
   "metadata": {},
   "outputs": [
    {
     "data": {
      "text/plain": [
       "False"
      ]
     },
     "execution_count": 31,
     "metadata": {},
     "output_type": "execute_result"
    }
   ],
   "source": [
    "can_tony_drink"
   ]
  },
  {
   "cell_type": "code",
   "execution_count": 32,
   "id": "c4848925",
   "metadata": {},
   "outputs": [
    {
     "ename": "IndentationError",
     "evalue": "expected an indented block (Temp/ipykernel_12684/2478364549.py, line 13)",
     "output_type": "error",
     "traceback": [
      "\u001b[1;36m  File \u001b[1;32m\"C:\\Users\\ANTONI~1\\AppData\\Local\\Temp/ipykernel_12684/2478364549.py\"\u001b[1;36m, line \u001b[1;32m13\u001b[0m\n\u001b[1;33m    # cannot drink\u001b[0m\n\u001b[1;37m                  ^\u001b[0m\n\u001b[1;31mIndentationError\u001b[0m\u001b[1;31m:\u001b[0m expected an indented block\n"
     ]
    }
   ],
   "source": [
    "if can_drink(30):\n",
    "        pass\n",
    "    \n",
    "...\n",
    "\n",
    "...\n",
    "\n",
    "if can_drink(30):\n",
    "        pass\n",
    "    \n",
    "    \n",
    "if not can_drink(30):\n",
    "        # cannot drink"
   ]
  },
  {
   "cell_type": "code",
   "execution_count": 35,
   "id": "d691976a",
   "metadata": {},
   "outputs": [],
   "source": [
    "def greeting(name=\"Tony\"):\n",
    "    print('Hello ', name)"
   ]
  },
  {
   "cell_type": "code",
   "execution_count": 36,
   "id": "e16fbc42",
   "metadata": {},
   "outputs": [
    {
     "name": "stdout",
     "output_type": "stream",
     "text": [
      "Hello  Tony\n"
     ]
    }
   ],
   "source": [
    "greeting()"
   ]
  },
  {
   "cell_type": "code",
   "execution_count": 37,
   "id": "0aab0ee4",
   "metadata": {},
   "outputs": [
    {
     "name": "stdout",
     "output_type": "stream",
     "text": [
      "Hello  Lindy\n"
     ]
    }
   ],
   "source": [
    "greeting(\"Lindy\")"
   ]
  },
  {
   "cell_type": "code",
   "execution_count": 38,
   "id": "72d30bad",
   "metadata": {},
   "outputs": [],
   "source": [
    "def create_person(name, age, role = 'student', required_books = 5):\n",
    "    person = {\n",
    "        'person_name': name,\n",
    "        'age': age,\n",
    "        'role': role,\n",
    "        'total_books': required_books\n",
    "    }\n",
    "    return person"
   ]
  },
  {
   "cell_type": "code",
   "execution_count": 39,
   "id": "4a513702",
   "metadata": {},
   "outputs": [],
   "source": [
    "tony = create_person('Tony', 30, role='Programmer')"
   ]
  },
  {
   "cell_type": "code",
   "execution_count": 40,
   "id": "c4de5274",
   "metadata": {},
   "outputs": [
    {
     "data": {
      "text/plain": [
       "{'person_name': 'Tony', 'age': 30, 'role': 'Programmer', 'total_books': 5}"
      ]
     },
     "execution_count": 40,
     "metadata": {},
     "output_type": "execute_result"
    }
   ],
   "source": [
    "tony"
   ]
  },
  {
   "cell_type": "code",
   "execution_count": 41,
   "id": "a02f8081",
   "metadata": {},
   "outputs": [],
   "source": [
    "lindy = create_person(\"Lindy\", 31, role='Social Worker', required_books=2)"
   ]
  },
  {
   "cell_type": "code",
   "execution_count": 42,
   "id": "7de1945c",
   "metadata": {},
   "outputs": [
    {
     "data": {
      "text/plain": [
       "{'person_name': 'Lindy', 'age': 31, 'role': 'Social Worker', 'total_books': 2}"
      ]
     },
     "execution_count": 42,
     "metadata": {},
     "output_type": "execute_result"
    }
   ],
   "source": [
    "lindy"
   ]
  },
  {
   "cell_type": "code",
   "execution_count": 7,
   "id": "3915a7ef",
   "metadata": {},
   "outputs": [],
   "source": [
    "def my_info(age=6):\n",
    "    print(f\"You are {age} years old\")"
   ]
  },
  {
   "cell_type": "code",
   "execution_count": null,
   "id": "b537481e",
   "metadata": {},
   "outputs": [],
   "source": []
  },
  {
   "cell_type": "code",
   "execution_count": null,
   "id": "6171e31a",
   "metadata": {},
   "outputs": [],
   "source": []
  }
 ],
 "metadata": {
  "kernelspec": {
   "display_name": "Python 3 (ipykernel)",
   "language": "python",
   "name": "python3"
  },
  "language_info": {
   "codemirror_mode": {
    "name": "ipython",
    "version": 3
   },
   "file_extension": ".py",
   "mimetype": "text/x-python",
   "name": "python",
   "nbconvert_exporter": "python",
   "pygments_lexer": "ipython3",
   "version": "3.9.7"
  }
 },
 "nbformat": 4,
 "nbformat_minor": 5
}
