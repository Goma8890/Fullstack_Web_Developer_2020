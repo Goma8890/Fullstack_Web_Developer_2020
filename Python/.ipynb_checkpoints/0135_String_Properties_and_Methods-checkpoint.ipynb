{
 "cells": [
  {
   "cell_type": "markdown",
   "id": "f1bf0622",
   "metadata": {},
   "source": [
    "# String Properties and Methods"
   ]
  },
  {
   "cell_type": "markdown",
   "id": "8a4f7798",
   "metadata": {},
   "source": [
    "## Functions vs. Methods"
   ]
  },
  {
   "cell_type": "code",
   "execution_count": 1,
   "id": "66a1fd23",
   "metadata": {},
   "outputs": [],
   "source": [
    "name = 'Zephyr'"
   ]
  },
  {
   "cell_type": "code",
   "execution_count": 2,
   "id": "f915a9a4",
   "metadata": {},
   "outputs": [
    {
     "data": {
      "text/plain": [
       "str"
      ]
     },
     "execution_count": 2,
     "metadata": {},
     "output_type": "execute_result"
    }
   ],
   "source": [
    "# Function\n",
    "type(name)"
   ]
  },
  {
   "cell_type": "code",
   "execution_count": 4,
   "id": "5740676e",
   "metadata": {},
   "outputs": [
    {
     "name": "stdout",
     "output_type": "stream",
     "text": [
      "Stuff in here More stuff in here\n"
     ]
    }
   ],
   "source": [
    "# Function\n",
    "print(\"Stuff in here\", \"More stuff in here\")"
   ]
  },
  {
   "cell_type": "code",
   "execution_count": 5,
   "id": "ccb3212d",
   "metadata": {},
   "outputs": [
    {
     "data": {
      "text/plain": [
       "'ZEPHYR'"
      ]
     },
     "execution_count": 5,
     "metadata": {},
     "output_type": "execute_result"
    }
   ],
   "source": [
    "# Class/Method\n",
    "name.upper()"
   ]
  },
  {
   "cell_type": "markdown",
   "id": "e782676f",
   "metadata": {},
   "source": [
    "## Property"
   ]
  },
  {
   "cell_type": "code",
   "execution_count": 6,
   "id": "8cfbea63",
   "metadata": {},
   "outputs": [
    {
     "data": {
      "text/plain": [
       "'Zephyr'"
      ]
     },
     "execution_count": 6,
     "metadata": {},
     "output_type": "execute_result"
    }
   ],
   "source": [
    "name "
   ]
  },
  {
   "cell_type": "code",
   "execution_count": 7,
   "id": "71506b76",
   "metadata": {},
   "outputs": [
    {
     "data": {
      "text/plain": [
       "6"
      ]
     },
     "execution_count": 7,
     "metadata": {},
     "output_type": "execute_result"
    }
   ],
   "source": [
    "len(name)"
   ]
  },
  {
   "cell_type": "code",
   "execution_count": 8,
   "id": "ddce5348",
   "metadata": {},
   "outputs": [
    {
     "data": {
      "text/plain": [
       "False"
      ]
     },
     "execution_count": 8,
     "metadata": {},
     "output_type": "execute_result"
    }
   ],
   "source": [
    "# Method\n",
    "name.endswith(\"z\")"
   ]
  },
  {
   "cell_type": "code",
   "execution_count": 9,
   "id": "6959eebd",
   "metadata": {},
   "outputs": [
    {
     "data": {
      "text/plain": [
       "1"
      ]
     },
     "execution_count": 9,
     "metadata": {},
     "output_type": "execute_result"
    }
   ],
   "source": [
    "name.count(\"p\")"
   ]
  },
  {
   "cell_type": "code",
   "execution_count": 10,
   "id": "5d2fbd6b",
   "metadata": {},
   "outputs": [
    {
     "data": {
      "text/plain": [
       "'zephyr'"
      ]
     },
     "execution_count": 10,
     "metadata": {},
     "output_type": "execute_result"
    }
   ],
   "source": [
    "name.lower()"
   ]
  },
  {
   "cell_type": "code",
   "execution_count": 11,
   "id": "6a079bed",
   "metadata": {},
   "outputs": [
    {
     "data": {
      "text/plain": [
       "'zEPHYR'"
      ]
     },
     "execution_count": 11,
     "metadata": {},
     "output_type": "execute_result"
    }
   ],
   "source": [
    "name.swapcase()"
   ]
  },
  {
   "cell_type": "code",
   "execution_count": null,
   "id": "c593f289",
   "metadata": {},
   "outputs": [],
   "source": []
  }
 ],
 "metadata": {
  "kernelspec": {
   "display_name": "Python 3 (ipykernel)",
   "language": "python",
   "name": "python3"
  },
  "language_info": {
   "codemirror_mode": {
    "name": "ipython",
    "version": 3
   },
   "file_extension": ".py",
   "mimetype": "text/x-python",
   "name": "python",
   "nbconvert_exporter": "python",
   "pygments_lexer": "ipython3",
   "version": "3.9.7"
  }
 },
 "nbformat": 4,
 "nbformat_minor": 5
}
