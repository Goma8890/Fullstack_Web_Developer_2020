{
 "cells": [
  {
   "cell_type": "markdown",
   "id": "361ca32d",
   "metadata": {},
   "source": [
    "# Type Casting"
   ]
  },
  {
   "cell_type": "code",
   "execution_count": 1,
   "id": "14e4f24b",
   "metadata": {},
   "outputs": [
    {
     "data": {
      "text/plain": [
       "True"
      ]
     },
     "execution_count": 1,
     "metadata": {},
     "output_type": "execute_result"
    }
   ],
   "source": [
    "20 == 20"
   ]
  },
  {
   "cell_type": "code",
   "execution_count": 2,
   "id": "43d521b8",
   "metadata": {},
   "outputs": [
    {
     "data": {
      "text/plain": [
       "True"
      ]
     },
     "execution_count": 2,
     "metadata": {},
     "output_type": "execute_result"
    }
   ],
   "source": [
    "20 == 20.0"
   ]
  },
  {
   "cell_type": "code",
   "execution_count": 3,
   "id": "4b9f8159",
   "metadata": {},
   "outputs": [
    {
     "data": {
      "text/plain": [
       "False"
      ]
     },
     "execution_count": 3,
     "metadata": {},
     "output_type": "execute_result"
    }
   ],
   "source": [
    "20 == \"20\""
   ]
  },
  {
   "cell_type": "code",
   "execution_count": 7,
   "id": "d7ebe49c",
   "metadata": {},
   "outputs": [
    {
     "name": "stdout",
     "output_type": "stream",
     "text": [
      "What is your age (enter a number): 30\n"
     ]
    }
   ],
   "source": [
    "age = input(\"What is your age (enter a number): \")"
   ]
  },
  {
   "cell_type": "code",
   "execution_count": 8,
   "id": "1b5d9c6f",
   "metadata": {},
   "outputs": [
    {
     "data": {
      "text/plain": [
       "str"
      ]
     },
     "execution_count": 8,
     "metadata": {},
     "output_type": "execute_result"
    }
   ],
   "source": [
    "type(age)"
   ]
  },
  {
   "cell_type": "code",
   "execution_count": 9,
   "id": "88654c9f",
   "metadata": {},
   "outputs": [
    {
     "data": {
      "text/plain": [
       "False"
      ]
     },
     "execution_count": 9,
     "metadata": {},
     "output_type": "execute_result"
    }
   ],
   "source": [
    "age == 30"
   ]
  },
  {
   "cell_type": "code",
   "execution_count": 10,
   "id": "d9b2603c",
   "metadata": {},
   "outputs": [
    {
     "data": {
      "text/plain": [
       "30"
      ]
     },
     "execution_count": 10,
     "metadata": {},
     "output_type": "execute_result"
    }
   ],
   "source": [
    "int(age)"
   ]
  },
  {
   "cell_type": "code",
   "execution_count": 11,
   "id": "b7353da7",
   "metadata": {},
   "outputs": [],
   "source": [
    "age = int(age)"
   ]
  },
  {
   "cell_type": "code",
   "execution_count": 12,
   "id": "7fcdd201",
   "metadata": {},
   "outputs": [
    {
     "data": {
      "text/plain": [
       "int"
      ]
     },
     "execution_count": 12,
     "metadata": {},
     "output_type": "execute_result"
    }
   ],
   "source": [
    "type(age)"
   ]
  },
  {
   "cell_type": "code",
   "execution_count": 13,
   "id": "9d699781",
   "metadata": {},
   "outputs": [
    {
     "data": {
      "text/plain": [
       "True"
      ]
     },
     "execution_count": 13,
     "metadata": {},
     "output_type": "execute_result"
    }
   ],
   "source": [
    "age == 30"
   ]
  },
  {
   "cell_type": "code",
   "execution_count": 16,
   "id": "83b189b4",
   "metadata": {},
   "outputs": [],
   "source": [
    "tup = (1, 2, 3, 5)"
   ]
  },
  {
   "cell_type": "code",
   "execution_count": 17,
   "id": "38e4fee9",
   "metadata": {},
   "outputs": [
    {
     "data": {
      "text/plain": [
       "(1, 2, 3, 5)"
      ]
     },
     "execution_count": 17,
     "metadata": {},
     "output_type": "execute_result"
    }
   ],
   "source": [
    "tup"
   ]
  },
  {
   "cell_type": "code",
   "execution_count": 18,
   "id": "53a89373",
   "metadata": {},
   "outputs": [
    {
     "data": {
      "text/plain": [
       "5"
      ]
     },
     "execution_count": 18,
     "metadata": {},
     "output_type": "execute_result"
    }
   ],
   "source": [
    "tup[3]"
   ]
  },
  {
   "cell_type": "code",
   "execution_count": 19,
   "id": "be8417ec",
   "metadata": {},
   "outputs": [
    {
     "name": "stdout",
     "output_type": "stream",
     "text": [
      "[1, 2, 3, 5]\n",
      "<class 'list'>\n"
     ]
    }
   ],
   "source": [
    "# tup -> list -> edit the list -> tup\n",
    "lst = list(tup)\n",
    "print(lst)\n",
    "print(type(lst))"
   ]
  },
  {
   "cell_type": "code",
   "execution_count": 20,
   "id": "fd53a299",
   "metadata": {},
   "outputs": [],
   "source": [
    "lst[3] = 4"
   ]
  },
  {
   "cell_type": "code",
   "execution_count": 21,
   "id": "28e3cad1",
   "metadata": {},
   "outputs": [
    {
     "data": {
      "text/plain": [
       "[1, 2, 3, 4]"
      ]
     },
     "execution_count": 21,
     "metadata": {},
     "output_type": "execute_result"
    }
   ],
   "source": [
    "lst"
   ]
  },
  {
   "cell_type": "code",
   "execution_count": 22,
   "id": "cacfacbe",
   "metadata": {},
   "outputs": [],
   "source": [
    "tup = tuple(lst)"
   ]
  },
  {
   "cell_type": "code",
   "execution_count": 23,
   "id": "f58b21df",
   "metadata": {},
   "outputs": [
    {
     "data": {
      "text/plain": [
       "(1, 2, 3, 4)"
      ]
     },
     "execution_count": 23,
     "metadata": {},
     "output_type": "execute_result"
    }
   ],
   "source": [
    "tup"
   ]
  },
  {
   "cell_type": "code",
   "execution_count": 24,
   "id": "fb63fbc8",
   "metadata": {},
   "outputs": [
    {
     "name": "stdout",
     "output_type": "stream",
     "text": [
      "What is your name?tony\n"
     ]
    }
   ],
   "source": [
    "name = input(\"What is your name?\")"
   ]
  },
  {
   "cell_type": "code",
   "execution_count": 27,
   "id": "f925aa62",
   "metadata": {},
   "outputs": [],
   "source": [
    "has_name = bool(name)"
   ]
  },
  {
   "cell_type": "code",
   "execution_count": 28,
   "id": "0b49296e",
   "metadata": {},
   "outputs": [
    {
     "data": {
      "text/plain": [
       "bool"
      ]
     },
     "execution_count": 28,
     "metadata": {},
     "output_type": "execute_result"
    }
   ],
   "source": [
    "type(has_name)"
   ]
  },
  {
   "cell_type": "code",
   "execution_count": 29,
   "id": "b30b04fd",
   "metadata": {},
   "outputs": [
    {
     "data": {
      "text/plain": [
       "True"
      ]
     },
     "execution_count": 29,
     "metadata": {},
     "output_type": "execute_result"
    }
   ],
   "source": [
    "has_name"
   ]
  },
  {
   "cell_type": "code",
   "execution_count": 30,
   "id": "e56cfcfe",
   "metadata": {},
   "outputs": [
    {
     "name": "stdout",
     "output_type": "stream",
     "text": [
      "The name is  tony\n"
     ]
    }
   ],
   "source": [
    "if has_name:\n",
    "    print(\"The name is \", name) "
   ]
  },
  {
   "cell_type": "code",
   "execution_count": 37,
   "id": "1dd2809f",
   "metadata": {},
   "outputs": [],
   "source": [
    "#str -> ints\n",
    "# Removing the duplicates from a list\n",
    "groceries = list(set(['Milk', 'Bread', 'Eggs', 'Milk', 'Eggs', 'Oranges', 'Chocolate']))"
   ]
  },
  {
   "cell_type": "code",
   "execution_count": 38,
   "id": "fed4e51c",
   "metadata": {},
   "outputs": [
    {
     "data": {
      "text/plain": [
       "['Milk', 'Bread', 'Oranges', 'Chocolate', 'Eggs']"
      ]
     },
     "execution_count": 38,
     "metadata": {},
     "output_type": "execute_result"
    }
   ],
   "source": [
    "groceries"
   ]
  },
  {
   "cell_type": "raw",
   "id": "1453a035",
   "metadata": {},
   "source": []
  }
 ],
 "metadata": {
  "kernelspec": {
   "display_name": "Python 3 (ipykernel)",
   "language": "python",
   "name": "python3"
  },
  "language_info": {
   "codemirror_mode": {
    "name": "ipython",
    "version": 3
   },
   "file_extension": ".py",
   "mimetype": "text/x-python",
   "name": "python",
   "nbconvert_exporter": "python",
   "pygments_lexer": "ipython3",
   "version": "3.9.7"
  }
 },
 "nbformat": 4,
 "nbformat_minor": 5
}
