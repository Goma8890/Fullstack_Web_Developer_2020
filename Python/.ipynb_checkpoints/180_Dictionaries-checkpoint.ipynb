{
 "cells": [
  {
   "cell_type": "markdown",
   "id": "94dbf0ac",
   "metadata": {},
   "source": [
    "# Dictionaries"
   ]
  },
  {
   "cell_type": "code",
   "execution_count": 2,
   "id": "c41b4b85",
   "metadata": {},
   "outputs": [],
   "source": [
    "person = {\n",
    "    \"key\": \"value\",\n",
    "    \"key2\": \"value2\",\n",
    "}"
   ]
  },
  {
   "cell_type": "code",
   "execution_count": 3,
   "id": "27e04680",
   "metadata": {},
   "outputs": [
    {
     "data": {
      "text/plain": [
       "{'key': 'value', 'key2': 'value2'}"
      ]
     },
     "execution_count": 3,
     "metadata": {},
     "output_type": "execute_result"
    }
   ],
   "source": [
    "person"
   ]
  },
  {
   "cell_type": "code",
   "execution_count": 4,
   "id": "db3d8f2a",
   "metadata": {},
   "outputs": [
    {
     "data": {
      "text/plain": [
       "dict"
      ]
     },
     "execution_count": 4,
     "metadata": {},
     "output_type": "execute_result"
    }
   ],
   "source": [
    "type(person)"
   ]
  },
  {
   "cell_type": "code",
   "execution_count": 5,
   "id": "450ea737",
   "metadata": {},
   "outputs": [
    {
     "name": "stdout",
     "output_type": "stream",
     "text": [
      "value\n"
     ]
    }
   ],
   "source": [
    "print(person[\"key\"])"
   ]
  },
  {
   "cell_type": "code",
   "execution_count": 28,
   "id": "a7df1aba",
   "metadata": {},
   "outputs": [],
   "source": [
    "course = {\n",
    "    'name': 'Python for Everybody',\n",
    "    'students': '100000',\n",
    "    'length': 8.75,\n",
    "    'lessons': [\n",
    "        'Strings', 'Lists', 'Dictionaries', 'If Statements'\n",
    "    ]\n",
    "}"
   ]
  },
  {
   "cell_type": "code",
   "execution_count": 29,
   "id": "076f26df",
   "metadata": {},
   "outputs": [
    {
     "data": {
      "text/plain": [
       "dict"
      ]
     },
     "execution_count": 29,
     "metadata": {},
     "output_type": "execute_result"
    }
   ],
   "source": [
    "type(course)"
   ]
  },
  {
   "cell_type": "code",
   "execution_count": 30,
   "id": "18fea708",
   "metadata": {},
   "outputs": [
    {
     "data": {
      "text/plain": [
       "list"
      ]
     },
     "execution_count": 30,
     "metadata": {},
     "output_type": "execute_result"
    }
   ],
   "source": [
    "type(course['lessons'])"
   ]
  },
  {
   "cell_type": "code",
   "execution_count": 31,
   "id": "6b92bdef",
   "metadata": {},
   "outputs": [
    {
     "data": {
      "text/plain": [
       "'Python for Everybody'"
      ]
     },
     "execution_count": 31,
     "metadata": {},
     "output_type": "execute_result"
    }
   ],
   "source": [
    "course['name']"
   ]
  },
  {
   "cell_type": "code",
   "execution_count": 32,
   "id": "e3d994a0",
   "metadata": {},
   "outputs": [],
   "source": [
    "course['subject'] = 'Programming'"
   ]
  },
  {
   "cell_type": "code",
   "execution_count": 33,
   "id": "6f56ace7",
   "metadata": {},
   "outputs": [
    {
     "data": {
      "text/plain": [
       "{'name': 'Python for Everybody',\n",
       " 'students': '100000',\n",
       " 'length': 8.75,\n",
       " 'lessons': ['Strings', 'Lists', 'Dictionaries', 'If Statements'],\n",
       " 'subject': 'Programming'}"
      ]
     },
     "execution_count": 33,
     "metadata": {},
     "output_type": "execute_result"
    }
   ],
   "source": [
    "course"
   ]
  },
  {
   "cell_type": "code",
   "execution_count": 34,
   "id": "c27d01e0",
   "metadata": {},
   "outputs": [],
   "source": [
    "del course['length']"
   ]
  },
  {
   "cell_type": "code",
   "execution_count": 35,
   "id": "31f58bfe",
   "metadata": {},
   "outputs": [
    {
     "data": {
      "text/plain": [
       "{'name': 'Python for Everybody',\n",
       " 'students': '100000',\n",
       " 'lessons': ['Strings', 'Lists', 'Dictionaries', 'If Statements'],\n",
       " 'subject': 'Programming'}"
      ]
     },
     "execution_count": 35,
     "metadata": {},
     "output_type": "execute_result"
    }
   ],
   "source": [
    "course"
   ]
  },
  {
   "cell_type": "code",
   "execution_count": 36,
   "id": "d8ef36b9",
   "metadata": {},
   "outputs": [],
   "source": [
    "keys = course.keys()"
   ]
  },
  {
   "cell_type": "code",
   "execution_count": 37,
   "id": "1afd30b3",
   "metadata": {},
   "outputs": [
    {
     "data": {
      "text/plain": [
       "dict_keys(['name', 'students', 'lessons', 'subject'])"
      ]
     },
     "execution_count": 37,
     "metadata": {},
     "output_type": "execute_result"
    }
   ],
   "source": [
    "keys"
   ]
  },
  {
   "cell_type": "code",
   "execution_count": 38,
   "id": "11cba3c4",
   "metadata": {},
   "outputs": [],
   "source": [
    "values = course.values()"
   ]
  },
  {
   "cell_type": "code",
   "execution_count": 39,
   "id": "3f751b04",
   "metadata": {},
   "outputs": [
    {
     "data": {
      "text/plain": [
       "dict_values(['Python for Everybody', '100000', ['Strings', 'Lists', 'Dictionaries', 'If Statements'], 'Programming'])"
      ]
     },
     "execution_count": 39,
     "metadata": {},
     "output_type": "execute_result"
    }
   ],
   "source": [
    "values"
   ]
  },
  {
   "cell_type": "code",
   "execution_count": 40,
   "id": "27626d52",
   "metadata": {},
   "outputs": [
    {
     "name": "stdout",
     "output_type": "stream",
     "text": [
      "Enter name students lessons or subject:\n",
      "This wasn't found\n"
     ]
    }
   ],
   "source": [
    "what_info_do_you_want = input(\"Enter name students lessons or subject:\")\n",
    "data = course.get(what_info_do_you_want, \"This wasn't found\")\n",
    "print(data)"
   ]
  },
  {
   "cell_type": "code",
   "execution_count": 27,
   "id": "81c2c2bd",
   "metadata": {},
   "outputs": [
    {
     "name": "stdout",
     "output_type": "stream",
     "text": [
      "name  =>  Python for Everybody\n",
      "students  =>  100_000\n",
      "lessons  =>  ['Strings', 'Lists', 'Dictionaries', 'If Statements']\n",
      "subject  =>  Programming\n"
     ]
    }
   ],
   "source": [
    "for key, value in course.items():\n",
    "    print(key, \" => \", value)"
   ]
  },
  {
   "cell_type": "code",
   "execution_count": null,
   "id": "26db6fc8",
   "metadata": {},
   "outputs": [],
   "source": []
  }
 ],
 "metadata": {
  "kernelspec": {
   "display_name": "Python 3 (ipykernel)",
   "language": "python",
   "name": "python3"
  },
  "language_info": {
   "codemirror_mode": {
    "name": "ipython",
    "version": 3
   },
   "file_extension": ".py",
   "mimetype": "text/x-python",
   "name": "python",
   "nbconvert_exporter": "python",
   "pygments_lexer": "ipython3",
   "version": "3.9.7"
  }
 },
 "nbformat": 4,
 "nbformat_minor": 5
}
