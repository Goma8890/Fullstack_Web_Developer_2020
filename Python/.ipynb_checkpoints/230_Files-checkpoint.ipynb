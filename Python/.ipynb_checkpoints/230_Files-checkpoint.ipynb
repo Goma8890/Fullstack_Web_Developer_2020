{
 "cells": [
  {
   "cell_type": "markdown",
   "id": "e1d22e14",
   "metadata": {},
   "source": [
    "# Files"
   ]
  },
  {
   "cell_type": "markdown",
   "id": "5fdb159b",
   "metadata": {},
   "source": [
    "#### Files are extremely important in Python. They are used in caching, data storage, reading data and more."
   ]
  },
  {
   "cell_type": "code",
   "execution_count": 4,
   "id": "ef6c5ae4",
   "metadata": {},
   "outputs": [],
   "source": [
    "# Writing to a file\n",
    "with open(\"230_files_test.txt\", \"w\") as f:\n",
    "    f.write(\"Hello World, this is our first programatically created file\")\n",
    "    f.close()"
   ]
  },
  {
   "cell_type": "code",
   "execution_count": 12,
   "id": "b7954634",
   "metadata": {},
   "outputs": [
    {
     "name": "stdout",
     "output_type": "stream",
     "text": [
      "<class '_io.TextIOWrapper'>\n"
     ]
    }
   ],
   "source": [
    "# Reading from a file\n",
    "with open(\"230_files_test.txt\", \"r\") as f:\n",
    "    print(type(f))\n",
    "    contents = f.read()\n",
    "    f.close()"
   ]
  },
  {
   "cell_type": "code",
   "execution_count": 14,
   "id": "93bab8c9",
   "metadata": {},
   "outputs": [
    {
     "name": "stdout",
     "output_type": "stream",
     "text": [
      "HELLO FROM VS CODE\n",
      "\n"
     ]
    }
   ],
   "source": [
    "print(contents)"
   ]
  },
  {
   "cell_type": "code",
   "execution_count": 20,
   "id": "878d6529",
   "metadata": {},
   "outputs": [],
   "source": [
    "# Rewrite a file\n",
    "with open(\"230_files_test.txt\", \"w\") as f:\n",
    "    f.write(\"New file stuff\")\n",
    "    f.close()"
   ]
  },
  {
   "cell_type": "code",
   "execution_count": 25,
   "id": "6383cdc1",
   "metadata": {},
   "outputs": [],
   "source": [
    "# Append to a file\n",
    "with open(\"230_files_test.txt\", \"a\") as f:\n",
    "    f.write(\"\\nThis is line 5\")\n",
    "    f.close()"
   ]
  },
  {
   "cell_type": "code",
   "execution_count": 27,
   "id": "30548628",
   "metadata": {},
   "outputs": [
    {
     "name": "stdout",
     "output_type": "stream",
     "text": [
      "f.name =>  230_files_test.txt\n"
     ]
    }
   ],
   "source": [
    "with open(\"230_files_test.txt\", \"r\") as f:\n",
    "    print(\"f.name => \", f.name)\n",
    "    lines = f.readlines()\n",
    "    f.close()"
   ]
  },
  {
   "cell_type": "code",
   "execution_count": 28,
   "id": "edb4648d",
   "metadata": {},
   "outputs": [
    {
     "data": {
      "text/plain": [
       "['New file stuff\\n',\n",
       " 'This is line 4 form Antonio\\n',\n",
       " 'This is line 3\\n',\n",
       " 'This is line 5']"
      ]
     },
     "execution_count": 28,
     "metadata": {},
     "output_type": "execute_result"
    }
   ],
   "source": [
    "lines"
   ]
  },
  {
   "cell_type": "code",
   "execution_count": 29,
   "id": "c30528ba",
   "metadata": {},
   "outputs": [
    {
     "data": {
      "text/plain": [
       "list"
      ]
     },
     "execution_count": 29,
     "metadata": {},
     "output_type": "execute_result"
    }
   ],
   "source": [
    "type(lines)"
   ]
  },
  {
   "cell_type": "code",
   "execution_count": 30,
   "id": "79028dbe",
   "metadata": {},
   "outputs": [
    {
     "name": "stdout",
     "output_type": "stream",
     "text": [
      "New file stuff\n",
      "\n",
      "This is line 4 form Antonio\n",
      "\n",
      "This is line 3\n",
      "\n",
      "This is line 5\n"
     ]
    }
   ],
   "source": [
    "for line in lines:\n",
    "    print(line)"
   ]
  },
  {
   "cell_type": "code",
   "execution_count": null,
   "id": "03d5198a",
   "metadata": {},
   "outputs": [],
   "source": []
  }
 ],
 "metadata": {
  "kernelspec": {
   "display_name": "Python 3 (ipykernel)",
   "language": "python",
   "name": "python3"
  },
  "language_info": {
   "codemirror_mode": {
    "name": "ipython",
    "version": 3
   },
   "file_extension": ".py",
   "mimetype": "text/x-python",
   "name": "python",
   "nbconvert_exporter": "python",
   "pygments_lexer": "ipython3",
   "version": "3.9.7"
  }
 },
 "nbformat": 4,
 "nbformat_minor": 5
}
