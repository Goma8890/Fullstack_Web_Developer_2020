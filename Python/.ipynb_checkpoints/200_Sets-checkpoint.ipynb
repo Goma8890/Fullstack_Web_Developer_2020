{
 "cells": [
  {
   "cell_type": "markdown",
   "id": "eeda2420",
   "metadata": {},
   "source": [
    "# Sets"
   ]
  },
  {
   "cell_type": "markdown",
   "id": "6b24d56b",
   "metadata": {},
   "source": [
    "##### Sets are like `lists` and `tuples` in the sense they are lists of items. Sets are mutable, so you can add and remove items. Sets also force unique data, so you cannot have duplicates of the same data."
   ]
  },
  {
   "cell_type": "code",
   "execution_count": 1,
   "id": "98a07988",
   "metadata": {},
   "outputs": [],
   "source": [
    "# operations = ['Unlock the car', 'Get in the car', 'Start the car', 'Drive the car']"
   ]
  },
  {
   "cell_type": "code",
   "execution_count": 4,
   "id": "362ffa36",
   "metadata": {},
   "outputs": [],
   "source": [
    "colors = {'Blue', 'Red', 'Yellow', 'Orange', 'Green', 'Red', 'Blue'}"
   ]
  },
  {
   "cell_type": "code",
   "execution_count": 5,
   "id": "c9681c65",
   "metadata": {},
   "outputs": [
    {
     "data": {
      "text/plain": [
       "{'Blue', 'Green', 'Orange', 'Red', 'Yellow'}"
      ]
     },
     "execution_count": 5,
     "metadata": {},
     "output_type": "execute_result"
    }
   ],
   "source": [
    "colors"
   ]
  },
  {
   "cell_type": "code",
   "execution_count": 6,
   "id": "0ee113fa",
   "metadata": {},
   "outputs": [],
   "source": [
    "colors.add(\"Violet\")"
   ]
  },
  {
   "cell_type": "code",
   "execution_count": 7,
   "id": "f67514b5",
   "metadata": {},
   "outputs": [
    {
     "data": {
      "text/plain": [
       "{'Blue', 'Green', 'Orange', 'Red', 'Violet', 'Yellow'}"
      ]
     },
     "execution_count": 7,
     "metadata": {},
     "output_type": "execute_result"
    }
   ],
   "source": [
    "colors"
   ]
  },
  {
   "cell_type": "code",
   "execution_count": 8,
   "id": "e2a167a1",
   "metadata": {},
   "outputs": [],
   "source": [
    "colors.add(\"violet\")"
   ]
  },
  {
   "cell_type": "code",
   "execution_count": 9,
   "id": "a6328cf7",
   "metadata": {},
   "outputs": [
    {
     "data": {
      "text/plain": [
       "{'Blue', 'Green', 'Orange', 'Red', 'Violet', 'Yellow', 'violet'}"
      ]
     },
     "execution_count": 9,
     "metadata": {},
     "output_type": "execute_result"
    }
   ],
   "source": [
    "colors"
   ]
  },
  {
   "cell_type": "code",
   "execution_count": 10,
   "id": "d11ca592",
   "metadata": {},
   "outputs": [],
   "source": [
    "colors.remove(\"Orange\")"
   ]
  },
  {
   "cell_type": "code",
   "execution_count": 11,
   "id": "220f7de3",
   "metadata": {},
   "outputs": [
    {
     "data": {
      "text/plain": [
       "{'Blue', 'Green', 'Red', 'Violet', 'Yellow', 'violet'}"
      ]
     },
     "execution_count": 11,
     "metadata": {},
     "output_type": "execute_result"
    }
   ],
   "source": [
    "colors"
   ]
  },
  {
   "cell_type": "code",
   "execution_count": 12,
   "id": "27e59844",
   "metadata": {},
   "outputs": [
    {
     "data": {
      "text/plain": [
       "set"
      ]
     },
     "execution_count": 12,
     "metadata": {},
     "output_type": "execute_result"
    }
   ],
   "source": [
    "type(colors)"
   ]
  },
  {
   "cell_type": "code",
   "execution_count": 24,
   "id": "1709dc89",
   "metadata": {},
   "outputs": [],
   "source": [
    "lst = ['Blue', \"Blue\", \"Red\", \"Red\", \"Yellow\"]"
   ]
  },
  {
   "cell_type": "code",
   "execution_count": 25,
   "id": "7d2900ac",
   "metadata": {},
   "outputs": [
    {
     "data": {
      "text/plain": [
       "['Blue', 'Blue', 'Red', 'Red', 'Yellow']"
      ]
     },
     "execution_count": 25,
     "metadata": {},
     "output_type": "execute_result"
    }
   ],
   "source": [
    "lst"
   ]
  },
  {
   "cell_type": "code",
   "execution_count": 26,
   "id": "fcd8a608",
   "metadata": {},
   "outputs": [],
   "source": [
    "colors = set(lst)"
   ]
  },
  {
   "cell_type": "code",
   "execution_count": 27,
   "id": "ed4aa985",
   "metadata": {},
   "outputs": [
    {
     "data": {
      "text/plain": [
       "{'Blue', 'Red', 'Yellow'}"
      ]
     },
     "execution_count": 27,
     "metadata": {},
     "output_type": "execute_result"
    }
   ],
   "source": [
    "colors"
   ]
  },
  {
   "cell_type": "code",
   "execution_count": 28,
   "id": "3f7b932c",
   "metadata": {},
   "outputs": [
    {
     "data": {
      "text/plain": [
       "set"
      ]
     },
     "execution_count": 28,
     "metadata": {},
     "output_type": "execute_result"
    }
   ],
   "source": [
    "type(colors)"
   ]
  },
  {
   "cell_type": "code",
   "execution_count": 29,
   "id": "ff1e2c20",
   "metadata": {},
   "outputs": [
    {
     "name": "stdout",
     "output_type": "stream",
     "text": [
      "Red\n",
      "Blue\n",
      "Yellow\n"
     ]
    }
   ],
   "source": [
    "for color in colors:\n",
    "    print(color)"
   ]
  },
  {
   "cell_type": "code",
   "execution_count": null,
   "id": "c53d0daa",
   "metadata": {},
   "outputs": [],
   "source": []
  }
 ],
 "metadata": {
  "kernelspec": {
   "display_name": "Python 3 (ipykernel)",
   "language": "python",
   "name": "python3"
  },
  "language_info": {
   "codemirror_mode": {
    "name": "ipython",
    "version": 3
   },
   "file_extension": ".py",
   "mimetype": "text/x-python",
   "name": "python",
   "nbconvert_exporter": "python",
   "pygments_lexer": "ipython3",
   "version": "3.9.7"
  }
 },
 "nbformat": 4,
 "nbformat_minor": 5
}
