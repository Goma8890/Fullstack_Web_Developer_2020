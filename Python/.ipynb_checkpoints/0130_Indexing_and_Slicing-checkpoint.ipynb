{
 "cells": [
  {
   "cell_type": "markdown",
   "id": "69d612e3",
   "metadata": {},
   "source": [
    "# Indexing and Slicing"
   ]
  },
  {
   "cell_type": "code",
   "execution_count": 5,
   "id": "84fc62cd",
   "metadata": {},
   "outputs": [],
   "source": [
    "# Indexing\n",
    "course = \"Python for Everybody\""
   ]
  },
  {
   "cell_type": "code",
   "execution_count": 6,
   "id": "f5b5fd81",
   "metadata": {},
   "outputs": [
    {
     "data": {
      "text/plain": [
       "'P'"
      ]
     },
     "execution_count": 6,
     "metadata": {},
     "output_type": "execute_result"
    }
   ],
   "source": [
    "course[0]"
   ]
  },
  {
   "cell_type": "code",
   "execution_count": 7,
   "id": "7d34e0f6",
   "metadata": {},
   "outputs": [
    {
     "data": {
      "text/plain": [
       "'n'"
      ]
     },
     "execution_count": 7,
     "metadata": {},
     "output_type": "execute_result"
    }
   ],
   "source": [
    "course[5]"
   ]
  },
  {
   "cell_type": "code",
   "execution_count": 9,
   "id": "e6364e0d",
   "metadata": {},
   "outputs": [],
   "source": [
    "lst = ['Car', 'Truck', 'Airplane', 'Blimp']"
   ]
  },
  {
   "cell_type": "code",
   "execution_count": 10,
   "id": "e9f2eb02",
   "metadata": {},
   "outputs": [
    {
     "data": {
      "text/plain": [
       "'Car'"
      ]
     },
     "execution_count": 10,
     "metadata": {},
     "output_type": "execute_result"
    }
   ],
   "source": [
    "lst[0]"
   ]
  },
  {
   "cell_type": "code",
   "execution_count": 11,
   "id": "7cc0c757",
   "metadata": {},
   "outputs": [
    {
     "data": {
      "text/plain": [
       "'Airplane'"
      ]
     },
     "execution_count": 11,
     "metadata": {},
     "output_type": "execute_result"
    }
   ],
   "source": [
    "lst[2]"
   ]
  },
  {
   "cell_type": "code",
   "execution_count": 12,
   "id": "15de5091",
   "metadata": {},
   "outputs": [
    {
     "data": {
      "text/plain": [
       "'Blimp'"
      ]
     },
     "execution_count": 12,
     "metadata": {},
     "output_type": "execute_result"
    }
   ],
   "source": [
    "lst[-1]"
   ]
  },
  {
   "cell_type": "code",
   "execution_count": 14,
   "id": "0bccb753",
   "metadata": {},
   "outputs": [
    {
     "data": {
      "text/plain": [
       "'Truck'"
      ]
     },
     "execution_count": 14,
     "metadata": {},
     "output_type": "execute_result"
    }
   ],
   "source": [
    "lst[-3]"
   ]
  },
  {
   "cell_type": "code",
   "execution_count": 15,
   "id": "037c97eb",
   "metadata": {},
   "outputs": [
    {
     "data": {
      "text/plain": [
       "'Python for Everybody'"
      ]
     },
     "execution_count": 15,
     "metadata": {},
     "output_type": "execute_result"
    }
   ],
   "source": [
    "# Slicing a string\n",
    "course"
   ]
  },
  {
   "cell_type": "code",
   "execution_count": 17,
   "id": "866cb4f1",
   "metadata": {},
   "outputs": [
    {
     "data": {
      "text/plain": [
       "'Python'"
      ]
     },
     "execution_count": 17,
     "metadata": {},
     "output_type": "execute_result"
    }
   ],
   "source": [
    "course[0:6]"
   ]
  },
  {
   "cell_type": "code",
   "execution_count": 18,
   "id": "6366e189",
   "metadata": {},
   "outputs": [
    {
     "data": {
      "text/plain": [
       "'for'"
      ]
     },
     "execution_count": 18,
     "metadata": {},
     "output_type": "execute_result"
    }
   ],
   "source": [
    "course[7:10]"
   ]
  },
  {
   "cell_type": "code",
   "execution_count": 19,
   "id": "8dfda263",
   "metadata": {},
   "outputs": [
    {
     "data": {
      "text/plain": [
       "['Car', 'Truck', 'Airplane', 'Blimp']"
      ]
     },
     "execution_count": 19,
     "metadata": {},
     "output_type": "execute_result"
    }
   ],
   "source": [
    "lst"
   ]
  },
  {
   "cell_type": "code",
   "execution_count": 20,
   "id": "080e4226",
   "metadata": {},
   "outputs": [
    {
     "data": {
      "text/plain": [
       "['Truck', 'Airplane']"
      ]
     },
     "execution_count": 20,
     "metadata": {},
     "output_type": "execute_result"
    }
   ],
   "source": [
    "lst [1:3]"
   ]
  },
  {
   "cell_type": "code",
   "execution_count": 21,
   "id": "9a738869",
   "metadata": {},
   "outputs": [
    {
     "data": {
      "text/plain": [
       "'Python for Everybody'"
      ]
     },
     "execution_count": 21,
     "metadata": {},
     "output_type": "execute_result"
    }
   ],
   "source": [
    "course"
   ]
  },
  {
   "cell_type": "code",
   "execution_count": 22,
   "id": "6c51e448",
   "metadata": {},
   "outputs": [],
   "source": [
    "language = course[0:6]"
   ]
  },
  {
   "cell_type": "code",
   "execution_count": 23,
   "id": "5c96d3f0",
   "metadata": {},
   "outputs": [
    {
     "data": {
      "text/plain": [
       "'Python'"
      ]
     },
     "execution_count": 23,
     "metadata": {},
     "output_type": "execute_result"
    }
   ],
   "source": [
    "language"
   ]
  },
  {
   "cell_type": "code",
   "execution_count": 24,
   "id": "eb6dd92a",
   "metadata": {},
   "outputs": [
    {
     "data": {
      "text/plain": [
       "'Python for Everybody'"
      ]
     },
     "execution_count": 24,
     "metadata": {},
     "output_type": "execute_result"
    }
   ],
   "source": [
    "course"
   ]
  },
  {
   "cell_type": "code",
   "execution_count": null,
   "id": "7f5a1e6f",
   "metadata": {},
   "outputs": [],
   "source": []
  }
 ],
 "metadata": {
  "kernelspec": {
   "display_name": "Python 3 (ipykernel)",
   "language": "python",
   "name": "python3"
  },
  "language_info": {
   "codemirror_mode": {
    "name": "ipython",
    "version": 3
   },
   "file_extension": ".py",
   "mimetype": "text/x-python",
   "name": "python",
   "nbconvert_exporter": "python",
   "pygments_lexer": "ipython3",
   "version": "3.9.7"
  }
 },
 "nbformat": 4,
 "nbformat_minor": 5
}
