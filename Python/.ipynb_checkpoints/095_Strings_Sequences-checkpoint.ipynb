{
 "cells": [
  {
   "cell_type": "markdown",
   "id": "4815ad0b",
   "metadata": {},
   "source": [
    "# Sequences(Strings)"
   ]
  },
  {
   "cell_type": "code",
   "execution_count": 1,
   "id": "731e54ab",
   "metadata": {},
   "outputs": [],
   "source": [
    "course = \"Python for Evrybody\""
   ]
  },
  {
   "cell_type": "code",
   "execution_count": 2,
   "id": "d979e77e",
   "metadata": {},
   "outputs": [
    {
     "data": {
      "text/plain": [
       "str"
      ]
     },
     "execution_count": 2,
     "metadata": {},
     "output_type": "execute_result"
    }
   ],
   "source": [
    "type(course)"
   ]
  },
  {
   "cell_type": "markdown",
   "id": "7b264f40",
   "metadata": {},
   "source": [
    "A 'Strings is jus a sentence'"
   ]
  },
  {
   "cell_type": "code",
   "execution_count": 4,
   "id": "bd5ad637",
   "metadata": {},
   "outputs": [],
   "source": [
    "sentence = \"What's going on?\""
   ]
  },
  {
   "cell_type": "code",
   "execution_count": 5,
   "id": "c5f154ed",
   "metadata": {},
   "outputs": [
    {
     "data": {
      "text/plain": [
       "\"What's going on?\""
      ]
     },
     "execution_count": 5,
     "metadata": {},
     "output_type": "execute_result"
    }
   ],
   "source": [
    "sentence"
   ]
  },
  {
   "cell_type": "code",
   "execution_count": 6,
   "id": "1799f074",
   "metadata": {},
   "outputs": [
    {
     "name": "stdout",
     "output_type": "stream",
     "text": [
      "Object `on` not found.\n"
     ]
    }
   ],
   "source": [
    "sentence = 'whts\\'s going on?"
   ]
  },
  {
   "cell_type": "code",
   "execution_count": null,
   "id": "ff226cc2",
   "metadata": {},
   "outputs": [],
   "source": [
    "sentence = 'whts\\'s going on"
   ]
  },
  {
   "cell_type": "code",
   "execution_count": 8,
   "id": "8aa64652",
   "metadata": {},
   "outputs": [
    {
     "data": {
      "text/plain": [
       "\"What's going on?\""
      ]
     },
     "execution_count": 8,
     "metadata": {},
     "output_type": "execute_result"
    }
   ],
   "source": [
    "sentence"
   ]
  },
  {
   "cell_type": "code",
   "execution_count": 9,
   "id": "c9446b47",
   "metadata": {},
   "outputs": [],
   "source": [
    "course = \"Python \" \\\n",
    "\"for Everybody\""
   ]
  },
  {
   "cell_type": "code",
   "execution_count": 10,
   "id": "39ad61e0",
   "metadata": {},
   "outputs": [
    {
     "data": {
      "text/plain": [
       "'Python for Everybody'"
      ]
     },
     "execution_count": 10,
     "metadata": {},
     "output_type": "execute_result"
    }
   ],
   "source": [
    "course"
   ]
  },
  {
   "cell_type": "code",
   "execution_count": 15,
   "id": "d3b13e43",
   "metadata": {},
   "outputs": [],
   "source": [
    "greetings = (\n",
    "    \"Hello \"\n",
    "    \"My anme is \"\n",
    "    \"Antonio\"\n",
    ")"
   ]
  },
  {
   "cell_type": "code",
   "execution_count": 16,
   "id": "f203ea12",
   "metadata": {},
   "outputs": [
    {
     "data": {
      "text/plain": [
       "'Hello My anme is Antonio'"
      ]
     },
     "execution_count": 16,
     "metadata": {},
     "output_type": "execute_result"
    }
   ],
   "source": [
    "greetings"
   ]
  },
  {
   "cell_type": "code",
   "execution_count": 18,
   "id": "8a92686f",
   "metadata": {},
   "outputs": [],
   "source": [
    "docstring = \"\"\"\n",
    "Hello\n",
    "this\n",
    "is \n",
    "a\n",
    "docstring\n",
    "\"\"\""
   ]
  },
  {
   "cell_type": "code",
   "execution_count": 19,
   "id": "96b2460e",
   "metadata": {},
   "outputs": [
    {
     "data": {
      "text/plain": [
       "'\\nHello\\nthis\\nis \\na\\ndocstring\\n'"
      ]
     },
     "execution_count": 19,
     "metadata": {},
     "output_type": "execute_result"
    }
   ],
   "source": [
    "docstring"
   ]
  },
  {
   "cell_type": "code",
   "execution_count": 20,
   "id": "2ce64d45",
   "metadata": {},
   "outputs": [
    {
     "name": "stdout",
     "output_type": "stream",
     "text": [
      "\n",
      "Hello\n",
      "this\n",
      "is \n",
      "a\n",
      "docstring\n",
      "\n"
     ]
    }
   ],
   "source": [
    "print(docstring)"
   ]
  },
  {
   "cell_type": "code",
   "execution_count": 21,
   "id": "516e9e06",
   "metadata": {},
   "outputs": [
    {
     "name": "stdout",
     "output_type": "stream",
     "text": [
      "P\n",
      "y\n",
      "t\n",
      "h\n",
      "o\n",
      "n\n"
     ]
    }
   ],
   "source": [
    "word = \"Python\"\n",
    "for letter in word:\n",
    "    print(letter)"
   ]
  },
  {
   "cell_type": "code",
   "execution_count": null,
   "id": "cf718e72",
   "metadata": {},
   "outputs": [],
   "source": []
  }
 ],
 "metadata": {
  "kernelspec": {
   "display_name": "Python 3 (ipykernel)",
   "language": "python",
   "name": "python3"
  },
  "language_info": {
   "codemirror_mode": {
    "name": "ipython",
    "version": 3
   },
   "file_extension": ".py",
   "mimetype": "text/x-python",
   "name": "python",
   "nbconvert_exporter": "python",
   "pygments_lexer": "ipython3",
   "version": "3.9.7"
  }
 },
 "nbformat": 4,
 "nbformat_minor": 5
}
