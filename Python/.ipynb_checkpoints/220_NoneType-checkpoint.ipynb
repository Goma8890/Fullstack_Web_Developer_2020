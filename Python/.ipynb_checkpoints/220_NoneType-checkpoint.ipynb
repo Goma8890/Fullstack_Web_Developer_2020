{
 "cells": [
  {
   "cell_type": "markdown",
   "id": "99d8d584",
   "metadata": {},
   "source": [
    "# NoneType"
   ]
  },
  {
   "cell_type": "markdown",
   "id": "0ed744c7",
   "metadata": {},
   "source": [
    "#### In Python, a variable can have nothing in it, It's a NoneType  and evaluated as None."
   ]
  },
  {
   "cell_type": "code",
   "execution_count": 1,
   "id": "c599d543",
   "metadata": {},
   "outputs": [],
   "source": [
    "sports = None"
   ]
  },
  {
   "cell_type": "code",
   "execution_count": 2,
   "id": "c1ec0a47",
   "metadata": {},
   "outputs": [
    {
     "data": {
      "text/plain": [
       "NoneType"
      ]
     },
     "execution_count": 2,
     "metadata": {},
     "output_type": "execute_result"
    }
   ],
   "source": [
    "type(sports)"
   ]
  },
  {
   "cell_type": "code",
   "execution_count": 3,
   "id": "9e2f5c62",
   "metadata": {},
   "outputs": [
    {
     "data": {
      "text/plain": [
       "NoneType"
      ]
     },
     "execution_count": 3,
     "metadata": {},
     "output_type": "execute_result"
    }
   ],
   "source": [
    "type(None)"
   ]
  },
  {
   "cell_type": "code",
   "execution_count": 4,
   "id": "b4d1fef3",
   "metadata": {},
   "outputs": [
    {
     "data": {
      "text/plain": [
       "False"
      ]
     },
     "execution_count": 4,
     "metadata": {},
     "output_type": "execute_result"
    }
   ],
   "source": [
    "bool(None)"
   ]
  },
  {
   "cell_type": "code",
   "execution_count": 5,
   "id": "62df4b68",
   "metadata": {},
   "outputs": [],
   "source": [
    "if sports is None:\n",
    "    pass"
   ]
  },
  {
   "cell_type": "code",
   "execution_count": 6,
   "id": "63b2ea66",
   "metadata": {},
   "outputs": [],
   "source": [
    "d = {\n",
    "    'thing': 'thin2'\n",
    "}"
   ]
  },
  {
   "cell_type": "code",
   "execution_count": 7,
   "id": "00b6bf4c",
   "metadata": {},
   "outputs": [
    {
     "data": {
      "text/plain": [
       "{'thing': 'thin2'}"
      ]
     },
     "execution_count": 7,
     "metadata": {},
     "output_type": "execute_result"
    }
   ],
   "source": [
    "d"
   ]
  },
  {
   "cell_type": "code",
   "execution_count": 8,
   "id": "130db1b4",
   "metadata": {},
   "outputs": [
    {
     "data": {
      "text/plain": [
       "'thin2'"
      ]
     },
     "execution_count": 8,
     "metadata": {},
     "output_type": "execute_result"
    }
   ],
   "source": [
    "d.get('thing')"
   ]
  },
  {
   "cell_type": "code",
   "execution_count": 17,
   "id": "8c25fb52",
   "metadata": {},
   "outputs": [],
   "source": [
    "a = d.get('something_else', None)"
   ]
  },
  {
   "cell_type": "code",
   "execution_count": 18,
   "id": "f6bcf9cb",
   "metadata": {},
   "outputs": [
    {
     "name": "stdout",
     "output_type": "stream",
     "text": [
      "Did not find something else\n"
     ]
    }
   ],
   "source": [
    "if a is None:\n",
    "    print(\"Did not find something else\")"
   ]
  },
  {
   "cell_type": "code",
   "execution_count": 19,
   "id": "a3c25f86",
   "metadata": {},
   "outputs": [
    {
     "data": {
      "text/plain": [
       "NoneType"
      ]
     },
     "execution_count": 19,
     "metadata": {},
     "output_type": "execute_result"
    }
   ],
   "source": [
    "type(a)"
   ]
  },
  {
   "cell_type": "code",
   "execution_count": null,
   "id": "40a3b255",
   "metadata": {},
   "outputs": [],
   "source": []
  }
 ],
 "metadata": {
  "kernelspec": {
   "display_name": "Python 3 (ipykernel)",
   "language": "python",
   "name": "python3"
  },
  "language_info": {
   "codemirror_mode": {
    "name": "ipython",
    "version": 3
   },
   "file_extension": ".py",
   "mimetype": "text/x-python",
   "name": "python",
   "nbconvert_exporter": "python",
   "pygments_lexer": "ipython3",
   "version": "3.9.7"
  }
 },
 "nbformat": 4,
 "nbformat_minor": 5
}
