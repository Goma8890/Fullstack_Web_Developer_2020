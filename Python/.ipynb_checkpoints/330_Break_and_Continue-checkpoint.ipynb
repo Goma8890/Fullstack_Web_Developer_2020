{
 "cells": [
  {
   "cell_type": "markdown",
   "id": "57d48016",
   "metadata": {},
   "source": [
    "# Break and Continue"
   ]
  },
  {
   "cell_type": "markdown",
   "id": "f9896f95",
   "metadata": {},
   "source": [
    "`continue` and `break`"
   ]
  },
  {
   "cell_type": "code",
   "execution_count": 19,
   "id": "237c5b37",
   "metadata": {},
   "outputs": [],
   "source": [
    "colors = ('Blue', 'Green', 'Yellow', 'Orange', 'Red', 'Purple')"
   ]
  },
  {
   "cell_type": "code",
   "execution_count": 20,
   "id": "cb7fe4d9",
   "metadata": {},
   "outputs": [
    {
     "data": {
      "text/plain": [
       "('Blue', 'Green', 'Yellow', 'Orange', 'Red', 'Purple')"
      ]
     },
     "execution_count": 20,
     "metadata": {},
     "output_type": "execute_result"
    }
   ],
   "source": [
    "colors"
   ]
  },
  {
   "cell_type": "code",
   "execution_count": 21,
   "id": "949d7c79",
   "metadata": {},
   "outputs": [
    {
     "name": "stdout",
     "output_type": "stream",
     "text": [
      "Starting the loop...\n",
      "Blue\n",
      "Green\n",
      "Yellow\n",
      "Red\n",
      "Purple\n",
      "Loop has ended\n"
     ]
    }
   ],
   "source": [
    "print(\"Starting the loop...\")\n",
    "for color in colors:\n",
    "    if color == \"Orange\":\n",
    "        continue\n",
    "    print(color)\n",
    "print(\"Loop has ended\")"
   ]
  },
  {
   "cell_type": "code",
   "execution_count": 22,
   "id": "3bc02e9a",
   "metadata": {},
   "outputs": [
    {
     "name": "stdout",
     "output_type": "stream",
     "text": [
      "Starting the loop...\n",
      "Blue\n",
      "Green\n",
      "Yellow\n",
      "Loop has ended\n"
     ]
    }
   ],
   "source": [
    "print(\"Starting the loop...\")\n",
    "for color in colors:\n",
    "    if color == \"Orange\":\n",
    "        break\n",
    "    print(color)\n",
    "print(\"Loop has ended\")"
   ]
  },
  {
   "cell_type": "code",
   "execution_count": 23,
   "id": "0d250745",
   "metadata": {},
   "outputs": [
    {
     "name": "stdout",
     "output_type": "stream",
     "text": [
      "Gues my name: toy\n",
      "It was a wrong name... try again\n",
      "Gues my name: lindy\n",
      "It was a wrong name... try again\n",
      "Gues my name: tony\n",
      "YOU WON\n"
     ]
    }
   ],
   "source": [
    "while True:\n",
    "    name = input(\"Gues my name: \")\n",
    "    if name.lower() == \"tony\":\n",
    "        print(\"YOU WON\")\n",
    "        break\n",
    "    print(\"It was a wrong name... try again\")"
   ]
  },
  {
   "cell_type": "code",
   "execution_count": null,
   "id": "5bf91200",
   "metadata": {},
   "outputs": [],
   "source": []
  }
 ],
 "metadata": {
  "kernelspec": {
   "display_name": "Python 3 (ipykernel)",
   "language": "python",
   "name": "python3"
  },
  "language_info": {
   "codemirror_mode": {
    "name": "ipython",
    "version": 3
   },
   "file_extension": ".py",
   "mimetype": "text/x-python",
   "name": "python",
   "nbconvert_exporter": "python",
   "pygments_lexer": "ipython3",
   "version": "3.9.7"
  }
 },
 "nbformat": 4,
 "nbformat_minor": 5
}
