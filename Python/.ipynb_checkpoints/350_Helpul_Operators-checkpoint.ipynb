{
 "cells": [
  {
   "cell_type": "markdown",
   "id": "59be8a0d",
   "metadata": {},
   "source": [
    "# Helpful Operators"
   ]
  },
  {
   "cell_type": "code",
   "execution_count": 1,
   "id": "8c9ce33f",
   "metadata": {},
   "outputs": [
    {
     "data": {
      "text/plain": [
       "True"
      ]
     },
     "execution_count": 1,
     "metadata": {},
     "output_type": "execute_result"
    }
   ],
   "source": [
    "'python' in 'python for everybody'"
   ]
  },
  {
   "cell_type": "code",
   "execution_count": 37,
   "id": "0dfcdb69",
   "metadata": {},
   "outputs": [
    {
     "name": "stdout",
     "output_type": "stream",
     "text": [
      "Tony is in this list!\n"
     ]
    }
   ],
   "source": [
    "if 'Tony' in ['Lindy', 'Tony', 'Dario']:\n",
    "    print(\"Tony is in this list!\")"
   ]
  },
  {
   "cell_type": "markdown",
   "id": "6c50e90d",
   "metadata": {},
   "source": [
    "## Enumerate"
   ]
  },
  {
   "cell_type": "code",
   "execution_count": 5,
   "id": "aa860a2d",
   "metadata": {},
   "outputs": [],
   "source": [
    "languages = ['pyhton', 'c++', 'javascript', 'swift']"
   ]
  },
  {
   "cell_type": "code",
   "execution_count": 6,
   "id": "8aebf317",
   "metadata": {},
   "outputs": [
    {
     "data": {
      "text/plain": [
       "['pyhton', 'c++', 'javascript', 'swift']"
      ]
     },
     "execution_count": 6,
     "metadata": {},
     "output_type": "execute_result"
    }
   ],
   "source": [
    "languages"
   ]
  },
  {
   "cell_type": "code",
   "execution_count": 9,
   "id": "a73f7fa7",
   "metadata": {},
   "outputs": [
    {
     "name": "stdout",
     "output_type": "stream",
     "text": [
      "1 pyhton\n",
      "2 c++\n",
      "3 javascript\n",
      "4 swift\n"
     ]
    }
   ],
   "source": [
    "#num = 1\n",
    "#for lang in enumerate(languages):\n",
    "    #print(num, lang)\n",
    "    #num = num + 1\n",
    "    \n",
    "for index, lang in enumerate(languages):\n",
    "    print(index + 1, lang)"
   ]
  },
  {
   "cell_type": "markdown",
   "id": "6982c250",
   "metadata": {},
   "source": [
    "## Zipping"
   ]
  },
  {
   "cell_type": "code",
   "execution_count": 10,
   "id": "04262fe9",
   "metadata": {},
   "outputs": [],
   "source": [
    "list1 = ['a', 'b', 'c']\n",
    "list2 = [1, 2, 3]"
   ]
  },
  {
   "cell_type": "code",
   "execution_count": 12,
   "id": "6029ccac",
   "metadata": {},
   "outputs": [
    {
     "name": "stdout",
     "output_type": "stream",
     "text": [
      "a  =>  1\n",
      "b  =>  2\n",
      "c  =>  3\n"
     ]
    }
   ],
   "source": [
    "for letter, number in zip(list1, list2):\n",
    "    print(letter, \" => \", number)"
   ]
  },
  {
   "cell_type": "code",
   "execution_count": 13,
   "id": "fb81bb17",
   "metadata": {},
   "outputs": [
    {
     "data": {
      "text/plain": [
       "['a', 'b', 'c']"
      ]
     },
     "execution_count": 13,
     "metadata": {},
     "output_type": "execute_result"
    }
   ],
   "source": [
    "list1"
   ]
  },
  {
   "cell_type": "code",
   "execution_count": 14,
   "id": "47364e3d",
   "metadata": {},
   "outputs": [
    {
     "data": {
      "text/plain": [
       "'a'"
      ]
     },
     "execution_count": 14,
     "metadata": {},
     "output_type": "execute_result"
    }
   ],
   "source": [
    "min(list1)"
   ]
  },
  {
   "cell_type": "code",
   "execution_count": 15,
   "id": "d120917b",
   "metadata": {},
   "outputs": [
    {
     "data": {
      "text/plain": [
       "'c'"
      ]
     },
     "execution_count": 15,
     "metadata": {},
     "output_type": "execute_result"
    }
   ],
   "source": [
    "max(list1)"
   ]
  },
  {
   "cell_type": "code",
   "execution_count": 16,
   "id": "2cccf425",
   "metadata": {},
   "outputs": [
    {
     "data": {
      "text/plain": [
       "[1, 2, 3]"
      ]
     },
     "execution_count": 16,
     "metadata": {},
     "output_type": "execute_result"
    }
   ],
   "source": [
    "list2"
   ]
  },
  {
   "cell_type": "code",
   "execution_count": 17,
   "id": "88309d55",
   "metadata": {},
   "outputs": [
    {
     "data": {
      "text/plain": [
       "1"
      ]
     },
     "execution_count": 17,
     "metadata": {},
     "output_type": "execute_result"
    }
   ],
   "source": [
    "min(list2)"
   ]
  },
  {
   "cell_type": "code",
   "execution_count": 19,
   "id": "b4283579",
   "metadata": {},
   "outputs": [
    {
     "data": {
      "text/plain": [
       "3"
      ]
     },
     "execution_count": 19,
     "metadata": {},
     "output_type": "execute_result"
    }
   ],
   "source": [
    "max(list2)"
   ]
  },
  {
   "cell_type": "code",
   "execution_count": 28,
   "id": "8f6a27b4",
   "metadata": {},
   "outputs": [
    {
     "data": {
      "text/plain": [
       "['a', 'b', 'c']"
      ]
     },
     "execution_count": 28,
     "metadata": {},
     "output_type": "execute_result"
    }
   ],
   "source": [
    "list1"
   ]
  },
  {
   "cell_type": "code",
   "execution_count": 21,
   "id": "b52242cb",
   "metadata": {},
   "outputs": [
    {
     "data": {
      "text/plain": [
       "\"['a', 'b', 'c']\""
      ]
     },
     "execution_count": 21,
     "metadata": {},
     "output_type": "execute_result"
    }
   ],
   "source": [
    "str(list1)"
   ]
  },
  {
   "cell_type": "code",
   "execution_count": 22,
   "id": "5140b5e6",
   "metadata": {},
   "outputs": [
    {
     "data": {
      "text/plain": [
       "'a->b->c'"
      ]
     },
     "execution_count": 22,
     "metadata": {},
     "output_type": "execute_result"
    }
   ],
   "source": [
    "'->'.join(list1)"
   ]
  },
  {
   "cell_type": "code",
   "execution_count": 23,
   "id": "1fee5453",
   "metadata": {},
   "outputs": [],
   "source": [
    "course = 'Python for Everybody'"
   ]
  },
  {
   "cell_type": "code",
   "execution_count": 24,
   "id": "2b0da522",
   "metadata": {},
   "outputs": [],
   "source": [
    "words = course.split(\" \")"
   ]
  },
  {
   "cell_type": "code",
   "execution_count": 25,
   "id": "39a0747c",
   "metadata": {},
   "outputs": [
    {
     "data": {
      "text/plain": [
       "['Python', 'for', 'Everybody']"
      ]
     },
     "execution_count": 25,
     "metadata": {},
     "output_type": "execute_result"
    }
   ],
   "source": [
    "words"
   ]
  },
  {
   "cell_type": "code",
   "execution_count": 26,
   "id": "86af8d85",
   "metadata": {},
   "outputs": [],
   "source": [
    "words.sort()"
   ]
  },
  {
   "cell_type": "code",
   "execution_count": 27,
   "id": "f524d76f",
   "metadata": {},
   "outputs": [
    {
     "data": {
      "text/plain": [
       "['Everybody', 'Python', 'for']"
      ]
     },
     "execution_count": 27,
     "metadata": {},
     "output_type": "execute_result"
    }
   ],
   "source": [
    "words"
   ]
  },
  {
   "cell_type": "code",
   "execution_count": 29,
   "id": "0f8c729e",
   "metadata": {},
   "outputs": [],
   "source": [
    "course = '_'.join(words)"
   ]
  },
  {
   "cell_type": "code",
   "execution_count": 30,
   "id": "bf4ca9e4",
   "metadata": {},
   "outputs": [
    {
     "data": {
      "text/plain": [
       "'Everybody_Python_for'"
      ]
     },
     "execution_count": 30,
     "metadata": {},
     "output_type": "execute_result"
    }
   ],
   "source": [
    "course"
   ]
  },
  {
   "cell_type": "code",
   "execution_count": 31,
   "id": "55fffc78",
   "metadata": {},
   "outputs": [],
   "source": [
    "from random import shuffle"
   ]
  },
  {
   "cell_type": "raw",
   "id": "45548c0a",
   "metadata": {},
   "source": [
    "words"
   ]
  },
  {
   "cell_type": "code",
   "execution_count": 38,
   "id": "0ee3023e",
   "metadata": {},
   "outputs": [],
   "source": [
    "shuffle(words)"
   ]
  },
  {
   "cell_type": "code",
   "execution_count": 39,
   "id": "7b2e5e90",
   "metadata": {},
   "outputs": [
    {
     "data": {
      "text/plain": [
       "['for', 'Everybody', 'Python']"
      ]
     },
     "execution_count": 39,
     "metadata": {},
     "output_type": "execute_result"
    }
   ],
   "source": [
    "words"
   ]
  }
 ],
 "metadata": {
  "kernelspec": {
   "display_name": "Python 3 (ipykernel)",
   "language": "python",
   "name": "python3"
  },
  "language_info": {
   "codemirror_mode": {
    "name": "ipython",
    "version": 3
   },
   "file_extension": ".py",
   "mimetype": "text/x-python",
   "name": "python",
   "nbconvert_exporter": "python",
   "pygments_lexer": "ipython3",
   "version": "3.9.7"
  }
 },
 "nbformat": 4,
 "nbformat_minor": 5
}
