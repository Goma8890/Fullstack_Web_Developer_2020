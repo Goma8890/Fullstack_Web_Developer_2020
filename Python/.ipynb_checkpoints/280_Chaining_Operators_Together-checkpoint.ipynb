{
 "cells": [
  {
   "cell_type": "markdown",
   "id": "fc397bb8",
   "metadata": {},
   "source": [
    "# Chaining Operators Together"
   ]
  },
  {
   "cell_type": "code",
   "execution_count": 6,
   "id": "5c5254e1",
   "metadata": {},
   "outputs": [],
   "source": [
    "name = \"Dario\""
   ]
  },
  {
   "cell_type": "code",
   "execution_count": 7,
   "id": "eb80af84",
   "metadata": {},
   "outputs": [
    {
     "name": "stdout",
     "output_type": "stream",
     "text": [
      "Name is Dario\n"
     ]
    }
   ],
   "source": [
    "if name == \"Antonio\":\n",
    "    print(\"Name is Antonio\")\n",
    "    \n",
    "if name == \"Dario\":\n",
    "    print(\"Name is Dario\")\n",
    "    \n",
    "if name == \"Lindy\":\n",
    "    print(\"Name is Lindy\")\n"
   ]
  },
  {
   "cell_type": "code",
   "execution_count": 10,
   "id": "6f5f4428",
   "metadata": {},
   "outputs": [
    {
     "name": "stdout",
     "output_type": "stream",
     "text": [
      "The name is Anything else\n"
     ]
    }
   ],
   "source": [
    "name = \"Anything else\"\n",
    "if name == \"Antonio\":\n",
    "    print(\"Antonio\")\n",
    "elif name == \"Dario\":\n",
    "    print(\"Dario\")\n",
    "elif name == \"Lindy\":\n",
    "    print(\"Lindy\")\n",
    "else:\n",
    "    print(f\"The name is {name}\")"
   ]
  },
  {
   "cell_type": "code",
   "execution_count": 13,
   "id": "9c3d4cf5",
   "metadata": {},
   "outputs": [
    {
     "name": "stdout",
     "output_type": "stream",
     "text": [
      "Welcome to the bar, what are you drinking tonight?\n"
     ]
    }
   ],
   "source": [
    "age = 25\n",
    "if age < 21:\n",
    "    print(\"Not allowed to drink alcohol.\")\n",
    "else:\n",
    "    print(\"Welcome to the bar, what are you drinking tonight?\")"
   ]
  },
  {
   "cell_type": "code",
   "execution_count": null,
   "id": "b4be88cd",
   "metadata": {},
   "outputs": [],
   "source": []
  }
 ],
 "metadata": {
  "kernelspec": {
   "display_name": "Python 3 (ipykernel)",
   "language": "python",
   "name": "python3"
  },
  "language_info": {
   "codemirror_mode": {
    "name": "ipython",
    "version": 3
   },
   "file_extension": ".py",
   "mimetype": "text/x-python",
   "name": "python",
   "nbconvert_exporter": "python",
   "pygments_lexer": "ipython3",
   "version": "3.9.7"
  }
 },
 "nbformat": 4,
 "nbformat_minor": 5
}
