{
 "cells": [
  {
   "cell_type": "markdown",
   "id": "61cf0d21",
   "metadata": {},
   "source": [
    "# Looping Through Dictionaries"
   ]
  },
  {
   "cell_type": "code",
   "execution_count": 2,
   "id": "e6a64600",
   "metadata": {},
   "outputs": [],
   "source": [
    "person = {\n",
    "    'name': 'Tony',\n",
    "    'course': 'Python for Everybody',\n",
    "    'role': 'Teacher'\n",
    "}"
   ]
  },
  {
   "cell_type": "code",
   "execution_count": 3,
   "id": "6f63e149",
   "metadata": {},
   "outputs": [
    {
     "data": {
      "text/plain": [
       "{'name': 'Tony', 'course': 'Python for Everybody', 'role': 'Teacher'}"
      ]
     },
     "execution_count": 3,
     "metadata": {},
     "output_type": "execute_result"
    }
   ],
   "source": [
    "person"
   ]
  },
  {
   "cell_type": "code",
   "execution_count": 4,
   "id": "6b533de3",
   "metadata": {},
   "outputs": [
    {
     "name": "stdout",
     "output_type": "stream",
     "text": [
      "name\n",
      "course\n",
      "role\n"
     ]
    }
   ],
   "source": [
    "for item in person:\n",
    "    print(item)"
   ]
  },
  {
   "cell_type": "code",
   "execution_count": 6,
   "id": "5c28b8e3",
   "metadata": {},
   "outputs": [
    {
     "name": "stdout",
     "output_type": "stream",
     "text": [
      "Tony\n",
      "Python for Everybody\n",
      "Teacher\n"
     ]
    }
   ],
   "source": [
    "for key in person:\n",
    "    print(person[key])"
   ]
  },
  {
   "cell_type": "code",
   "execution_count": 8,
   "id": "5111e1e7",
   "metadata": {},
   "outputs": [
    {
     "name": "stdout",
     "output_type": "stream",
     "text": [
      "Tony\n",
      "Python for Everybody\n",
      "Teacher\n"
     ]
    }
   ],
   "source": [
    "for key in person:\n",
    "    value = person[key]\n",
    "    print(value)"
   ]
  },
  {
   "cell_type": "code",
   "execution_count": 9,
   "id": "bd4a8af6",
   "metadata": {},
   "outputs": [
    {
     "name": "stdout",
     "output_type": "stream",
     "text": [
      "name Tony\n",
      "course Python for Everybody\n",
      "role Teacher\n"
     ]
    }
   ],
   "source": [
    "for key in person:\n",
    "    value = person[key]\n",
    "    print(key, value)"
   ]
  },
  {
   "cell_type": "code",
   "execution_count": 10,
   "id": "4c3cc566",
   "metadata": {},
   "outputs": [
    {
     "data": {
      "text/plain": [
       "dict_items([('name', 'Tony'), ('course', 'Python for Everybody'), ('role', 'Teacher')])"
      ]
     },
     "execution_count": 10,
     "metadata": {},
     "output_type": "execute_result"
    }
   ],
   "source": [
    "person.items()"
   ]
  },
  {
   "cell_type": "code",
   "execution_count": 12,
   "id": "b559d488",
   "metadata": {},
   "outputs": [
    {
     "name": "stdout",
     "output_type": "stream",
     "text": [
      "Key: name \t\t Value: Tony\n",
      "Key: course \t\t Value: Python for Everybody\n",
      "Key: role \t\t Value: Teacher\n"
     ]
    }
   ],
   "source": [
    "for key, value in person.items():\n",
    "    print(f\"Key: {key} \\t\\t Value: {value}\")"
   ]
  },
  {
   "cell_type": "code",
   "execution_count": null,
   "id": "2b8d1c1d",
   "metadata": {},
   "outputs": [],
   "source": []
  }
 ],
 "metadata": {
  "kernelspec": {
   "display_name": "Python 3 (ipykernel)",
   "language": "python",
   "name": "python3"
  },
  "language_info": {
   "codemirror_mode": {
    "name": "ipython",
    "version": 3
   },
   "file_extension": ".py",
   "mimetype": "text/x-python",
   "name": "python",
   "nbconvert_exporter": "python",
   "pygments_lexer": "ipython3",
   "version": "3.9.7"
  }
 },
 "nbformat": 4,
 "nbformat_minor": 5
}
