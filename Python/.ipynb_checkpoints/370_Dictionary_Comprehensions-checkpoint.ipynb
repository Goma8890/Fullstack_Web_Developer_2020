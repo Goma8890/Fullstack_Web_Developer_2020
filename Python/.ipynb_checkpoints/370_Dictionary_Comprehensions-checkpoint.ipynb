{
 "cells": [
  {
   "cell_type": "markdown",
   "id": "ce8e9fec",
   "metadata": {},
   "source": [
    "## Dictionary Comprehensions"
   ]
  },
  {
   "cell_type": "code",
   "execution_count": 3,
   "id": "f91f94f7",
   "metadata": {},
   "outputs": [],
   "source": [
    "keys = ['name', 'age', 'role']\n",
    "values = ['Tony', 34, 'Programmer']\n",
    "person = {}\n",
    "for key, value in zip(keys, values):\n",
    "    person[key] = value"
   ]
  },
  {
   "cell_type": "code",
   "execution_count": 4,
   "id": "7a4424c0",
   "metadata": {},
   "outputs": [
    {
     "data": {
      "text/plain": [
       "{'name': 'Tony', 'age': 34, 'role': 'Programmer'}"
      ]
     },
     "execution_count": 4,
     "metadata": {},
     "output_type": "execute_result"
    }
   ],
   "source": [
    "person"
   ]
  },
  {
   "cell_type": "code",
   "execution_count": 5,
   "id": "224d7b39",
   "metadata": {},
   "outputs": [
    {
     "data": {
      "text/plain": [
       "dict"
      ]
     },
     "execution_count": 5,
     "metadata": {},
     "output_type": "execute_result"
    }
   ],
   "source": [
    "type(person)"
   ]
  },
  {
   "cell_type": "code",
   "execution_count": null,
   "id": "7634012a",
   "metadata": {},
   "outputs": [],
   "source": [
    "person2 = {\n",
    "    key:value for key, value in zip(keys, values)\n",
    "}"
   ]
  }
 ],
 "metadata": {
  "kernelspec": {
   "display_name": "Python 3 (ipykernel)",
   "language": "python",
   "name": "python3"
  },
  "language_info": {
   "codemirror_mode": {
    "name": "ipython",
    "version": 3
   },
   "file_extension": ".py",
   "mimetype": "text/x-python",
   "name": "python",
   "nbconvert_exporter": "python",
   "pygments_lexer": "ipython3",
   "version": "3.9.7"
  }
 },
 "nbformat": 4,
 "nbformat_minor": 5
}
