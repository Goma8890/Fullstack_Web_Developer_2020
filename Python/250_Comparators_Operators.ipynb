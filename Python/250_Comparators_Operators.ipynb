{
 "cells": [
  {
   "cell_type": "markdown",
   "id": "71cc91ea",
   "metadata": {},
   "source": [
    "# Comparison Operators"
   ]
  },
  {
   "cell_type": "code",
   "execution_count": 1,
   "id": "1baf246d",
   "metadata": {},
   "outputs": [],
   "source": [
    "age = 30"
   ]
  },
  {
   "cell_type": "code",
   "execution_count": 3,
   "id": "55d44394",
   "metadata": {},
   "outputs": [
    {
     "name": "stdout",
     "output_type": "stream",
     "text": [
      "You are allowed to drink in Portugal.\n"
     ]
    }
   ],
   "source": [
    "if age >= 21:\n",
    "    print(\"You are allowed to drink in Portugal.\")"
   ]
  },
  {
   "cell_type": "code",
   "execution_count": 5,
   "id": "54b87c5c",
   "metadata": {},
   "outputs": [
    {
     "name": "stdout",
     "output_type": "stream",
     "text": [
      "This was true\n"
     ]
    }
   ],
   "source": [
    "if True:\n",
    "    print(\"This was true\")"
   ]
  },
  {
   "cell_type": "code",
   "execution_count": 7,
   "id": "44f881f5",
   "metadata": {},
   "outputs": [],
   "source": [
    "if False:\n",
    "    print(\"This was False\")"
   ]
  },
  {
   "cell_type": "code",
   "execution_count": 8,
   "id": "466409b0",
   "metadata": {},
   "outputs": [
    {
     "data": {
      "text/plain": [
       "True"
      ]
     },
     "execution_count": 8,
     "metadata": {},
     "output_type": "execute_result"
    }
   ],
   "source": [
    "True is True"
   ]
  },
  {
   "cell_type": "code",
   "execution_count": 9,
   "id": "5d2e8578",
   "metadata": {},
   "outputs": [
    {
     "data": {
      "text/plain": [
       "True"
      ]
     },
     "execution_count": 9,
     "metadata": {},
     "output_type": "execute_result"
    }
   ],
   "source": [
    "30 > 29"
   ]
  },
  {
   "cell_type": "code",
   "execution_count": 10,
   "id": "318d9ce8",
   "metadata": {},
   "outputs": [
    {
     "data": {
      "text/plain": [
       "False"
      ]
     },
     "execution_count": 10,
     "metadata": {},
     "output_type": "execute_result"
    }
   ],
   "source": [
    "40 > 50"
   ]
  },
  {
   "cell_type": "code",
   "execution_count": 11,
   "id": "87e192a8",
   "metadata": {},
   "outputs": [],
   "source": [
    "num = 10"
   ]
  },
  {
   "cell_type": "code",
   "execution_count": 12,
   "id": "b66ee990",
   "metadata": {},
   "outputs": [
    {
     "data": {
      "text/plain": [
       "True"
      ]
     },
     "execution_count": 12,
     "metadata": {},
     "output_type": "execute_result"
    }
   ],
   "source": [
    "num == 10"
   ]
  },
  {
   "cell_type": "code",
   "execution_count": 13,
   "id": "39b7dd40",
   "metadata": {},
   "outputs": [
    {
     "data": {
      "text/plain": [
       "False"
      ]
     },
     "execution_count": 13,
     "metadata": {},
     "output_type": "execute_result"
    }
   ],
   "source": [
    "num > 10"
   ]
  },
  {
   "cell_type": "code",
   "execution_count": 14,
   "id": "ea01dde3",
   "metadata": {},
   "outputs": [
    {
     "data": {
      "text/plain": [
       "False"
      ]
     },
     "execution_count": 14,
     "metadata": {},
     "output_type": "execute_result"
    }
   ],
   "source": [
    "num < 10"
   ]
  },
  {
   "cell_type": "code",
   "execution_count": 15,
   "id": "aa7a4370",
   "metadata": {},
   "outputs": [
    {
     "data": {
      "text/plain": [
       "True"
      ]
     },
     "execution_count": 15,
     "metadata": {},
     "output_type": "execute_result"
    }
   ],
   "source": [
    "num <= 10"
   ]
  },
  {
   "cell_type": "code",
   "execution_count": 16,
   "id": "9eb4cf32",
   "metadata": {},
   "outputs": [
    {
     "data": {
      "text/plain": [
       "True"
      ]
     },
     "execution_count": 16,
     "metadata": {},
     "output_type": "execute_result"
    }
   ],
   "source": [
    "\"string\" == \"string\""
   ]
  },
  {
   "cell_type": "code",
   "execution_count": 17,
   "id": "5cee1238",
   "metadata": {},
   "outputs": [
    {
     "data": {
      "text/plain": [
       "False"
      ]
     },
     "execution_count": 17,
     "metadata": {},
     "output_type": "execute_result"
    }
   ],
   "source": [
    "\"string\" == \"string2\""
   ]
  },
  {
   "cell_type": "code",
   "execution_count": 18,
   "id": "e97aead3",
   "metadata": {},
   "outputs": [
    {
     "data": {
      "text/plain": [
       "True"
      ]
     },
     "execution_count": 18,
     "metadata": {},
     "output_type": "execute_result"
    }
   ],
   "source": [
    "\"string\" != \"string2\""
   ]
  },
  {
   "cell_type": "code",
   "execution_count": 22,
   "id": "4615312e",
   "metadata": {},
   "outputs": [
    {
     "name": "stdout",
     "output_type": "stream",
     "text": [
      "What is your name? Antonio\n"
     ]
    }
   ],
   "source": [
    "name = input(\"What is your name? \")"
   ]
  },
  {
   "cell_type": "code",
   "execution_count": 23,
   "id": "e8aa4229",
   "metadata": {},
   "outputs": [
    {
     "data": {
      "text/plain": [
       "'Antonio'"
      ]
     },
     "execution_count": 23,
     "metadata": {},
     "output_type": "execute_result"
    }
   ],
   "source": [
    "name"
   ]
  },
  {
   "cell_type": "code",
   "execution_count": 24,
   "id": "e6305e42",
   "metadata": {},
   "outputs": [
    {
     "name": "stdout",
     "output_type": "stream",
     "text": [
      "Antonio Goma is your Python teacher!\n"
     ]
    }
   ],
   "source": [
    "if name == \"Antonio\":\n",
    "    print(\"Antonio Goma is your Python teacher!\")"
   ]
  },
  {
   "cell_type": "code",
   "execution_count": 25,
   "id": "c57758da",
   "metadata": {},
   "outputs": [
    {
     "name": "stdout",
     "output_type": "stream",
     "text": [
      "Name is still Antonio but we detected it by a lower case name\n"
     ]
    }
   ],
   "source": [
    "if name.lower() == \"antonio\":\n",
    "    print(\"Name is still Antonio but we detected it by a lower case name\")"
   ]
  },
  {
   "cell_type": "code",
   "execution_count": 26,
   "id": "044ca6e6",
   "metadata": {},
   "outputs": [
    {
     "data": {
      "text/plain": [
       "'Antonio'"
      ]
     },
     "execution_count": 26,
     "metadata": {},
     "output_type": "execute_result"
    }
   ],
   "source": [
    "name"
   ]
  },
  {
   "cell_type": "code",
   "execution_count": 27,
   "id": "7b58b4b1",
   "metadata": {},
   "outputs": [
    {
     "name": "stdout",
     "output_type": "stream",
     "text": [
      "This is anyone except Jacob\n"
     ]
    }
   ],
   "source": [
    "if name != \"Jacob\":\n",
    "    print(\"This is anyone except Jacob\")"
   ]
  },
  {
   "cell_type": "code",
   "execution_count": null,
   "id": "f4a9754b",
   "metadata": {},
   "outputs": [],
   "source": []
  }
 ],
 "metadata": {
  "kernelspec": {
   "display_name": "Python 3 (ipykernel)",
   "language": "python",
   "name": "python3"
  },
  "language_info": {
   "codemirror_mode": {
    "name": "ipython",
    "version": 3
   },
   "file_extension": ".py",
   "mimetype": "text/x-python",
   "name": "python",
   "nbconvert_exporter": "python",
   "pygments_lexer": "ipython3",
   "version": "3.9.7"
  }
 },
 "nbformat": 4,
 "nbformat_minor": 5
}
